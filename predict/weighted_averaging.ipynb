{
 "cells": [
  {
   "cell_type": "code",
   "execution_count": 45,
   "metadata": {},
   "outputs": [],
   "source": [
    "import lightgbm as lgb\n",
    "import xgboost as xgb\n",
    "from catboost import CatBoostRegressor, Pool\n",
    "from sklearn.model_selection import GridSearchCV\n",
    "from sklearn.model_selection import train_test_split\n",
    "from sklearn.preprocessing import LabelEncoder\n",
    "from sklearn.tree import DecisionTreeRegressor\n",
    "from sklearn.metrics import mean_squared_error\n",
    "from sklearn.ensemble import RandomForestRegressor\n",
    "from sklearn.svm import SVR\n",
    "from sklearn.model_selection import GridSearchCV\n",
    "import pandas as pd\n",
    "import numpy as np\n",
    "from joblib import dump\n",
    "from joblib import load\n",
    "import joblib\n"
   ]
  },
  {
   "cell_type": "code",
   "execution_count": 46,
   "metadata": {},
   "outputs": [],
   "source": [
    "# データの読み込み\n",
    "\n",
    "all_data = pd.read_csv('../data_processed/all_data1.csv')\n",
    "submit_data = pd.read_csv('../data/submit_sample.csv')\n",
    "ID = pd.read_csv('../data/test.csv')\n",
    "\n",
    "test_data = all_data[27532:]\n",
    "test_data = test_data.drop(['price'], axis=1)"
   ]
  },
  {
   "cell_type": "code",
   "execution_count": 47,
   "metadata": {},
   "outputs": [],
   "source": [
    "path = 'weighted_ave(all_data1)'\n",
    "# CatBoostのモデルをロード\n",
    "catboost_model = CatBoostRegressor()\n",
    "catboost_model.load_model(f'../model/{path}/catboost.cbm')\n",
    "\n",
    "# LightGBMのモデルをロード\n",
    "lightgbm_model = lgb.Booster(model_file=f'../model/{path}/lightGBM.bin')\n",
    "\n",
    "# XGBoostのモデルをロード\n",
    "xgboost_model = xgb.Booster()\n",
    "xgboost_model.load_model(f'../model/{path}/XGBoost.xgb')\n"
   ]
  },
  {
   "cell_type": "code",
   "execution_count": 48,
   "metadata": {},
   "outputs": [],
   "source": [
    "# 各モデルの予測を取得\n",
    "cat_preds = catboost_model.predict(test_data)\n",
    "lgb_preds = lightgbm_model.predict(test_data)\n",
    "dval = xgb.DMatrix(test_data)\n",
    "xgb_preds = xgboost_model.predict(dval)\n",
    "\n",
    "# 重みのハイパーパラメータを設定\n",
    "cat_weight = 0.2725346144167528\n",
    "lgb_weight = 0.28264655483030904\n",
    "xgb_weight = 0.4448188307529381\n",
    "\n",
    "# 3つのモデルの予測を加重平均して最終的な予測を得る\n",
    "test_predictions = (cat_preds * cat_weight + lgb_preds * lgb_weight + xgb_preds * xgb_weight) / (cat_weight + lgb_weight + xgb_weight)\n"
   ]
  },
  {
   "cell_type": "code",
   "execution_count": 49,
   "metadata": {},
   "outputs": [],
   "source": [
    "# 提出用データフレームを作成\n",
    "submission = pd.DataFrame({\n",
    "    'id': ID['id'],\n",
    "    'attendance': test_predictions\n",
    "})\n",
    "\n",
    "# ヘッダーを含まずにCSVファイルとして保存（'Deloitte Analytics/submission'フォルダに保存）\n",
    "submission.to_csv(f'../submission/{path}.csv', index=False, header=False)"
   ]
  }
 ],
 "metadata": {
  "kernelspec": {
   "display_name": "base",
   "language": "python",
   "name": "python3"
  },
  "language_info": {
   "codemirror_mode": {
    "name": "ipython",
    "version": 3
   },
   "file_extension": ".py",
   "mimetype": "text/x-python",
   "name": "python",
   "nbconvert_exporter": "python",
   "pygments_lexer": "ipython3",
   "version": "3.9.7"
  },
  "orig_nbformat": 4
 },
 "nbformat": 4,
 "nbformat_minor": 2
}
