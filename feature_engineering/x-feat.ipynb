{
 "cells": [
  {
   "cell_type": "code",
   "execution_count": 28,
   "metadata": {},
   "outputs": [],
   "source": [
    "import pandas as pd\n",
    "from sklearn.preprocessing import StandardScaler\n",
    "from sklearn.preprocessing import LabelEncoder\n",
    "from xfeat import Pipeline, SelectCategorical, LambdaEncoder\n",
    "from xfeat.num_encoder import SelectNumerical\n",
    "\n",
    "\n"
   ]
  },
  {
   "cell_type": "code",
   "execution_count": 29,
   "metadata": {},
   "outputs": [],
   "source": [
    "all_data = pd.read_csv('../data/all_data.csv')"
   ]
  },
  {
   "cell_type": "code",
   "execution_count": 30,
   "metadata": {},
   "outputs": [
    {
     "data": {
      "text/html": [
       "<div>\n",
       "<style scoped>\n",
       "    .dataframe tbody tr th:only-of-type {\n",
       "        vertical-align: middle;\n",
       "    }\n",
       "\n",
       "    .dataframe tbody tr th {\n",
       "        vertical-align: top;\n",
       "    }\n",
       "\n",
       "    .dataframe thead th {\n",
       "        text-align: right;\n",
       "    }\n",
       "</style>\n",
       "<table border=\"1\" class=\"dataframe\">\n",
       "  <thead>\n",
       "    <tr style=\"text-align: right;\">\n",
       "      <th></th>\n",
       "      <th>id</th>\n",
       "      <th>region</th>\n",
       "      <th>year</th>\n",
       "      <th>manufacturer</th>\n",
       "      <th>condition</th>\n",
       "      <th>cylinders</th>\n",
       "      <th>fuel</th>\n",
       "      <th>odometer</th>\n",
       "      <th>title_status</th>\n",
       "      <th>transmission</th>\n",
       "      <th>drive</th>\n",
       "      <th>size</th>\n",
       "      <th>type</th>\n",
       "      <th>paint_color</th>\n",
       "      <th>state</th>\n",
       "      <th>price</th>\n",
       "    </tr>\n",
       "  </thead>\n",
       "  <tbody>\n",
       "    <tr>\n",
       "      <th>0</th>\n",
       "      <td>0</td>\n",
       "      <td>nashville</td>\n",
       "      <td>1949</td>\n",
       "      <td>bmw</td>\n",
       "      <td>excellent</td>\n",
       "      <td>6 cylinders</td>\n",
       "      <td>gas</td>\n",
       "      <td>115148</td>\n",
       "      <td>clean</td>\n",
       "      <td>manual</td>\n",
       "      <td>rwd</td>\n",
       "      <td>mid-size</td>\n",
       "      <td>convertible</td>\n",
       "      <td>orange</td>\n",
       "      <td>NaN</td>\n",
       "      <td>27587.0</td>\n",
       "    </tr>\n",
       "    <tr>\n",
       "      <th>1</th>\n",
       "      <td>1</td>\n",
       "      <td>state college</td>\n",
       "      <td>2013</td>\n",
       "      <td>toyota</td>\n",
       "      <td>fair</td>\n",
       "      <td>8 cylinders</td>\n",
       "      <td>gas</td>\n",
       "      <td>172038</td>\n",
       "      <td>clean</td>\n",
       "      <td>automatic</td>\n",
       "      <td>rwd</td>\n",
       "      <td>full-size</td>\n",
       "      <td>sedan</td>\n",
       "      <td>silver</td>\n",
       "      <td>pa</td>\n",
       "      <td>4724.0</td>\n",
       "    </tr>\n",
       "    <tr>\n",
       "      <th>2</th>\n",
       "      <td>2</td>\n",
       "      <td>wichita</td>\n",
       "      <td>1998</td>\n",
       "      <td>ford</td>\n",
       "      <td>good</td>\n",
       "      <td>6 cylinders</td>\n",
       "      <td>gas</td>\n",
       "      <td>152492</td>\n",
       "      <td>clean</td>\n",
       "      <td>automatic</td>\n",
       "      <td>fwd</td>\n",
       "      <td>full-size</td>\n",
       "      <td>SUV</td>\n",
       "      <td>silver</td>\n",
       "      <td>ks</td>\n",
       "      <td>10931.0</td>\n",
       "    </tr>\n",
       "  </tbody>\n",
       "</table>\n",
       "</div>"
      ],
      "text/plain": [
       "   id         region  year manufacturer  condition    cylinders fuel  \\\n",
       "0   0      nashville  1949          bmw  excellent  6 cylinders  gas   \n",
       "1   1  state college  2013       toyota       fair  8 cylinders  gas   \n",
       "2   2        wichita  1998         ford       good  6 cylinders  gas   \n",
       "\n",
       "   odometer title_status transmission drive       size         type  \\\n",
       "0    115148        clean       manual   rwd   mid-size  convertible   \n",
       "1    172038        clean    automatic   rwd  full-size        sedan   \n",
       "2    152492        clean    automatic   fwd  full-size          SUV   \n",
       "\n",
       "  paint_color state    price  \n",
       "0      orange   NaN  27587.0  \n",
       "1      silver    pa   4724.0  \n",
       "2      silver    ks  10931.0  "
      ]
     },
     "execution_count": 30,
     "metadata": {},
     "output_type": "execute_result"
    }
   ],
   "source": [
    "all_data.head(3)"
   ]
  },
  {
   "cell_type": "markdown",
   "metadata": {},
   "source": [
    "reagion"
   ]
  },
  {
   "cell_type": "code",
   "execution_count": 31,
   "metadata": {},
   "outputs": [],
   "source": [
    "# 頻度が高い地域のリスト\n",
    "common_regions = ['central NJ', 'rhode island', 'rochester', 'albany', 'washington, DC', 'las vegas', 'tampa bay area', 'los angeles', 'richmond', 'dallas / fort worth']\n",
    "\n",
    "# 新しいカラムを作成\n",
    "all_data['region_encoded'] = all_data['region'].apply(lambda x: x if x in common_regions else 'Other values')"
   ]
  },
  {
   "cell_type": "markdown",
   "metadata": {},
   "source": [
    "year"
   ]
  },
  {
   "cell_type": "code",
   "execution_count": 32,
   "metadata": {},
   "outputs": [],
   "source": [
    "# yearカラムの中央値を計算\n",
    "median_year = all_data[\"year\"].median()\n",
    "\n",
    "# 欠損値を中央値で埋める\n",
    "all_data[\"year\"].fillna(median_year, inplace=True)\n",
    "\n",
    "# 2025年以上の値を抜き出して1000引く\n",
    "all_data.loc[all_data[\"year\"] >= 2025, \"year\"] -= 1000\n",
    "\n",
    "# 製造されてからたった年数を計算して新しいカラムを作成\n",
    "all_data[\"years_since_manufacture\"] = 2023 - all_data[\"year\"]\n"
   ]
  },
  {
   "cell_type": "markdown",
   "metadata": {},
   "source": [
    "manufacture"
   ]
  },
  {
   "cell_type": "code",
   "execution_count": 33,
   "metadata": {},
   "outputs": [],
   "source": [
    "# 頻度が高いメーカーのリスト\n",
    "common_manufacturers = ['ford', 'chevrolet', 'bmw', 'honda', 'toyota', 'ram', 'jeep', 'nissan', 'volkswagen', 'FORD']\n",
    "\n",
    "# メーカー名を小文字に統一\n",
    "all_data['manufacturer'] = all_data['manufacturer'].str.lower()\n",
    "\n",
    "# 新しいカラムを作成\n",
    "all_data['manufacturer_encoded'] = all_data['manufacturer'].apply(lambda x: x if x in common_manufacturers else 'Other values')\n"
   ]
  },
  {
   "cell_type": "markdown",
   "metadata": {},
   "source": [
    "condition"
   ]
  },
  {
   "cell_type": "code",
   "execution_count": 34,
   "metadata": {},
   "outputs": [],
   "source": [
    "# 条件と対応する数値のマッピングを定義\n",
    "condition_mapping = {\n",
    "    \"salvage\": 1,\n",
    "    \"fair\": 2,\n",
    "    \"good\": 3,\n",
    "    \"excellent\": 4,\n",
    "    \"like new\": 5,\n",
    "    \"new\": 6\n",
    "}\n",
    "\n",
    "# conditionカラムの値をマッピングに基づいて数値に変換\n",
    "all_data[\"condition_encoded\"] = all_data[\"condition\"].map(condition_mapping)\n"
   ]
  },
  {
   "cell_type": "markdown",
   "metadata": {},
   "source": [
    "cylinders"
   ]
  },
  {
   "cell_type": "code",
   "execution_count": 35,
   "metadata": {},
   "outputs": [],
   "source": [
    "# 数字だけを抽出\n",
    "all_data['cylinders_encoded'] = all_data['cylinders'].str.extract('(\\d+)')\n",
    "\n",
    "# NaNを処理\n",
    "all_data['cylinders_encoded'].fillna(-1, inplace=True)  # 一時的に-1でNaNを置き換え\n",
    "\n",
    "# 整数型に変換\n",
    "all_data['cylinders_encoded'] = all_data['cylinders_encoded'].astype(int)"
   ]
  },
  {
   "cell_type": "markdown",
   "metadata": {},
   "source": [
    "fuel"
   ]
  },
  {
   "cell_type": "code",
   "execution_count": 36,
   "metadata": {},
   "outputs": [],
   "source": [
    "# 新しいカラムを作成\n",
    "all_data['fuel_encoded'] = all_data['fuel'].apply(lambda x: x if x in ['gas', 'diesel'] else 'Other Values')"
   ]
  },
  {
   "cell_type": "markdown",
   "metadata": {},
   "source": [
    "odometer"
   ]
  },
  {
   "cell_type": "code",
   "execution_count": 37,
   "metadata": {},
   "outputs": [],
   "source": [
    "# 五分位数を計算\n",
    "q20 = all_data['odometer'].quantile(0.20)\n",
    "q40 = all_data['odometer'].quantile(0.40)\n",
    "q60 = all_data['odometer'].quantile(0.60)\n",
    "q80 = all_data['odometer'].quantile(0.80)\n",
    "\n",
    "# 新しいカラムを作成\n",
    "def categorize_mileage_5(value):\n",
    "    if value == -1:\n",
    "        return 'Other Values'\n",
    "    elif value <= q20:\n",
    "        return 'very_low_mileage'\n",
    "    elif q20 < value <= q40:\n",
    "        return 'low_mileage'\n",
    "    elif q40 < value <= q60:\n",
    "        return 'medium_mileage'\n",
    "    elif q60 < value <= q80:\n",
    "        return 'high_mileage'\n",
    "    else:\n",
    "        return 'very_high_mileage'\n",
    "\n",
    "all_data['mileage_encoded'] = all_data['odometer'].apply(categorize_mileage_5)\n",
    "\n"
   ]
  },
  {
   "cell_type": "markdown",
   "metadata": {},
   "source": [
    "tile_status"
   ]
  },
  {
   "cell_type": "code",
   "execution_count": 38,
   "metadata": {},
   "outputs": [],
   "source": [
    "# 新しいカラムを作成\n",
    "def categorize_title_status(value):\n",
    "    top_4_statuses = [\"clean\", \"rebuilt\", \"salvage\", \"lien\"]\n",
    "    if value in top_4_statuses:\n",
    "        return value\n",
    "    else:\n",
    "        return 'Other Values'\n",
    "\n",
    "all_data['title_status_encoded'] = all_data['title_status'].apply(categorize_title_status)\n"
   ]
  },
  {
   "cell_type": "markdown",
   "metadata": {},
   "source": [
    "transmission"
   ]
  },
  {
   "cell_type": "code",
   "execution_count": null,
   "metadata": {},
   "outputs": [],
   "source": []
  },
  {
   "cell_type": "markdown",
   "metadata": {},
   "source": [
    "drive"
   ]
  },
  {
   "cell_type": "code",
   "execution_count": null,
   "metadata": {},
   "outputs": [],
   "source": []
  },
  {
   "cell_type": "markdown",
   "metadata": {},
   "source": [
    "size"
   ]
  },
  {
   "cell_type": "markdown",
   "metadata": {},
   "source": [
    "type"
   ]
  },
  {
   "cell_type": "markdown",
   "metadata": {},
   "source": [
    "paint_color"
   ]
  },
  {
   "cell_type": "markdown",
   "metadata": {},
   "source": [
    "state"
   ]
  },
  {
   "cell_type": "markdown",
   "metadata": {},
   "source": [
    "price"
   ]
  },
  {
   "cell_type": "markdown",
   "metadata": {},
   "source": [
    "平均走行距離/年を計算"
   ]
  },
  {
   "cell_type": "code",
   "execution_count": 39,
   "metadata": {},
   "outputs": [],
   "source": [
    "all_data['avg_mileage_per_year'] = all_data['odometer'] / all_data['years_since_manufacture']\n"
   ]
  },
  {
   "cell_type": "markdown",
   "metadata": {},
   "source": [
    "manufacturer を使用して、各メーカーの中古車の出品数をカウントし、メーカーの人気度を示す"
   ]
  },
  {
   "cell_type": "code",
   "execution_count": 40,
   "metadata": {},
   "outputs": [],
   "source": [
    "# 各メーカーの中古車の出品数をカウント\n",
    "manufacturer_counts = all_data['manufacturer'].value_counts()\n",
    "\n",
    "# 新しいカラム 'manufacturer_popularity' を作成して、出品数を代入\n",
    "all_data['manufacturer_popularity'] = all_data['manufacturer'].map(manufacturer_counts)\n"
   ]
  },
  {
   "cell_type": "markdown",
   "metadata": {},
   "source": []
  },
  {
   "cell_type": "code",
   "execution_count": 41,
   "metadata": {},
   "outputs": [],
   "source": [
    "# 各地域の中古車の平均価格を計算\n",
    "region_avg_price = all_data.groupby('region')['price'].mean()\n",
    "\n",
    "# 新しいカラム 'region_avg_price' を作成して、平均価格を代入\n",
    "all_data['region_avg_price'] = all_data['region'].map(region_avg_price)"
   ]
  },
  {
   "cell_type": "markdown",
   "metadata": {},
   "source": []
  },
  {
   "cell_type": "code",
   "execution_count": 42,
   "metadata": {},
   "outputs": [],
   "source": [
    "# size と type を組み合わせて新しいカテゴリ特徴量 'size_type' を作成\n",
    "all_data['size_type'] = all_data['size'] + \"_\" + all_data['type']\n",
    "\n"
   ]
  },
  {
   "cell_type": "code",
   "execution_count": 43,
   "metadata": {},
   "outputs": [],
   "source": [
    "# drive と transmission を組み合わせて新しいカテゴリ特徴量 'drive_transmission' を作成\n",
    "all_data['drive_transmission'] = all_data['drive'] + \"_\" + all_data['transmission']"
   ]
  },
  {
   "cell_type": "markdown",
   "metadata": {},
   "source": []
  },
  {
   "cell_type": "code",
   "execution_count": 44,
   "metadata": {},
   "outputs": [],
   "source": [
    "# paint_color ごとに出品数をカウント\n",
    "color_popularity = all_data['paint_color'].value_counts()\n",
    "\n",
    "# 新しい特徴量 'color_popularity_score' を作成\n",
    "all_data['color_popularity_score'] = all_data['paint_color'].map(color_popularity)\n"
   ]
  },
  {
   "cell_type": "markdown",
   "metadata": {},
   "source": []
  },
  {
   "cell_type": "code",
   "execution_count": 45,
   "metadata": {},
   "outputs": [],
   "source": [
    "# 暖色系と寒色系の色を定義\n",
    "warm_colors = ['red', 'orange', 'brown', 'custom']\n",
    "cold_colors = ['black', 'silver', 'blue', 'white', 'green', 'grey']\n",
    "\n",
    "# 新しい特徴量 'color_temperature' を作成\n",
    "def categorize_color_temperature(color):\n",
    "    if color in warm_colors:\n",
    "        return 'warm'\n",
    "    elif color in cold_colors:\n",
    "        return 'cold'\n",
    "    else:\n",
    "        return 'unknown'\n",
    "\n",
    "all_data['color_temperature'] = all_data['paint_color'].apply(categorize_color_temperature)\n"
   ]
  },
  {
   "cell_type": "markdown",
   "metadata": {},
   "source": []
  },
  {
   "cell_type": "code",
   "execution_count": 46,
   "metadata": {},
   "outputs": [],
   "source": [
    "# 状態と年齢の組み合わせの特徴量を作成\n",
    "all_data['condition_age'] = all_data['condition'] + \"_\" + ((all_data['years_since_manufacture'] // 10) * 10).astype(str) + \"years\""
   ]
  },
  {
   "cell_type": "code",
   "execution_count": 47,
   "metadata": {},
   "outputs": [],
   "source": [
    "# メーカーと国のマッピングを作成\n",
    "manufacturer_country_mapping = {\n",
    "    'ford': 'American',\n",
    "    'chevrolet': 'American',\n",
    "    'bmw': 'German',\n",
    "    'honda': 'Japanese',\n",
    "    'toyota': 'Japanese',\n",
    "    'ram': 'American',\n",
    "    'jeep': 'American',\n",
    "    'nissan': 'Japanese',\n",
    "    'volkswagen': 'German',\n",
    "    'FORD': 'American'  # FORDは大文字で指定されているため、別途マッピングを追加\n",
    "}\n",
    "\n",
    "# 新しい特徴量を作成\n",
    "all_data['manufacturer_country'] = all_data['manufacturer'].map(manufacturer_country_mapping)\n"
   ]
  },
  {
   "cell_type": "code",
   "execution_count": 48,
   "metadata": {},
   "outputs": [
    {
     "name": "stdout",
     "output_type": "stream",
     "text": [
      "['id', 'year', 'odometer', 'price', 'years_since_manufacture', 'condition_encoded', 'cylinders_encoded', 'avg_mileage_per_year', 'manufacturer_popularity', 'region_avg_price', 'color_popularity_score']\n"
     ]
    },
    {
     "data": {
      "text/html": [
       "<div>\n",
       "<style scoped>\n",
       "    .dataframe tbody tr th:only-of-type {\n",
       "        vertical-align: middle;\n",
       "    }\n",
       "\n",
       "    .dataframe tbody tr th {\n",
       "        vertical-align: top;\n",
       "    }\n",
       "\n",
       "    .dataframe thead th {\n",
       "        text-align: right;\n",
       "    }\n",
       "</style>\n",
       "<table border=\"1\" class=\"dataframe\">\n",
       "  <thead>\n",
       "    <tr style=\"text-align: right;\">\n",
       "      <th></th>\n",
       "      <th>id</th>\n",
       "      <th>year</th>\n",
       "      <th>odometer</th>\n",
       "      <th>price</th>\n",
       "      <th>years_since_manufacture</th>\n",
       "      <th>condition_encoded</th>\n",
       "      <th>cylinders_encoded</th>\n",
       "      <th>avg_mileage_per_year</th>\n",
       "      <th>manufacturer_popularity</th>\n",
       "      <th>region_avg_price</th>\n",
       "      <th>color_popularity_score</th>\n",
       "    </tr>\n",
       "  </thead>\n",
       "  <tbody>\n",
       "    <tr>\n",
       "      <th>0</th>\n",
       "      <td>0</td>\n",
       "      <td>1949</td>\n",
       "      <td>115148</td>\n",
       "      <td>27587.0</td>\n",
       "      <td>74</td>\n",
       "      <td>4</td>\n",
       "      <td>6</td>\n",
       "      <td>1556.054054</td>\n",
       "      <td>6146</td>\n",
       "      <td>14888.131004</td>\n",
       "      <td>269</td>\n",
       "    </tr>\n",
       "    <tr>\n",
       "      <th>1</th>\n",
       "      <td>1</td>\n",
       "      <td>2013</td>\n",
       "      <td>172038</td>\n",
       "      <td>4724.0</td>\n",
       "      <td>10</td>\n",
       "      <td>2</td>\n",
       "      <td>8</td>\n",
       "      <td>17203.800000</td>\n",
       "      <td>3471</td>\n",
       "      <td>7990.000000</td>\n",
       "      <td>8669</td>\n",
       "    </tr>\n",
       "    <tr>\n",
       "      <th>2</th>\n",
       "      <td>2</td>\n",
       "      <td>1998</td>\n",
       "      <td>152492</td>\n",
       "      <td>10931.0</td>\n",
       "      <td>25</td>\n",
       "      <td>3</td>\n",
       "      <td>6</td>\n",
       "      <td>6099.680000</td>\n",
       "      <td>13684</td>\n",
       "      <td>12183.523605</td>\n",
       "      <td>8669</td>\n",
       "    </tr>\n",
       "    <tr>\n",
       "      <th>3</th>\n",
       "      <td>3</td>\n",
       "      <td>2014</td>\n",
       "      <td>104118</td>\n",
       "      <td>16553.0</td>\n",
       "      <td>9</td>\n",
       "      <td>4</td>\n",
       "      <td>4</td>\n",
       "      <td>11568.666667</td>\n",
       "      <td>13684</td>\n",
       "      <td>15586.365079</td>\n",
       "      <td>7623</td>\n",
       "    </tr>\n",
       "    <tr>\n",
       "      <th>4</th>\n",
       "      <td>4</td>\n",
       "      <td>2005</td>\n",
       "      <td>144554</td>\n",
       "      <td>5158.0</td>\n",
       "      <td>18</td>\n",
       "      <td>4</td>\n",
       "      <td>6</td>\n",
       "      <td>8030.777778</td>\n",
       "      <td>13684</td>\n",
       "      <td>10021.908497</td>\n",
       "      <td>2832</td>\n",
       "    </tr>\n",
       "  </tbody>\n",
       "</table>\n",
       "</div>"
      ],
      "text/plain": [
       "   id  year  odometer    price  years_since_manufacture  condition_encoded  \\\n",
       "0   0  1949    115148  27587.0                       74                  4   \n",
       "1   1  2013    172038   4724.0                       10                  2   \n",
       "2   2  1998    152492  10931.0                       25                  3   \n",
       "3   3  2014    104118  16553.0                        9                  4   \n",
       "4   4  2005    144554   5158.0                       18                  4   \n",
       "\n",
       "   cylinders_encoded  avg_mileage_per_year  manufacturer_popularity  \\\n",
       "0                  6           1556.054054                     6146   \n",
       "1                  8          17203.800000                     3471   \n",
       "2                  6           6099.680000                    13684   \n",
       "3                  4          11568.666667                    13684   \n",
       "4                  6           8030.777778                    13684   \n",
       "\n",
       "   region_avg_price  color_popularity_score  \n",
       "0      14888.131004                     269  \n",
       "1       7990.000000                    8669  \n",
       "2      12183.523605                    8669  \n",
       "3      15586.365079                    7623  \n",
       "4      10021.908497                    2832  "
      ]
     },
     "execution_count": 48,
     "metadata": {},
     "output_type": "execute_result"
    }
   ],
   "source": [
    "#連続量を抜き出す\n",
    "continuous_columns = all_data.select_dtypes(exclude=['object']).columns.tolist()\n",
    "print(continuous_columns)\n",
    "# 連続量のデータフレーム\n",
    "all_data_continuous = pd.DataFrame(all_data[continuous_columns])\n",
    "\n",
    "all_data_continuous.head()"
   ]
  },
  {
   "cell_type": "code",
   "execution_count": 49,
   "metadata": {},
   "outputs": [],
   "source": [
    "# 標準化したいカラムを指定\n",
    "columns_to_standardize = ['year', 'odometer', 'years_since_manufacture', 'avg_mileage_per_year', 'manufacturer_popularity', 'region_avg_price', 'color_popularity_score']\n",
    "\n",
    "# 標準化\n",
    "scaler = StandardScaler()\n",
    "all_data[columns_to_standardize] = scaler.fit_transform(all_data[columns_to_standardize])\n"
   ]
  },
  {
   "cell_type": "code",
   "execution_count": 50,
   "metadata": {},
   "outputs": [],
   "source": [
    "# LabelEncoderのインスタンスを作成\n",
    "label_encoder = LabelEncoder()\n",
    "\n",
    "# カテゴリ変数のリスト\n",
    "columns_to_encode = ['transmission', 'drive', 'size', 'type', 'paint_color', 'state', 'region_encoded', 'manufacturer_encoded', 'fuel_encoded', 'mileage_encoded', 'title_status_encoded', 'size_type', 'drive_transmission', 'color_temperature', 'condition_age', 'manufacturer_country']\n",
    "\n",
    "# 各カテゴリ変数をラベルエンコーディング\n",
    "label_encoders = {}  # 各カテゴリ変数のエンコーダを保存するための辞書\n",
    "for column in columns_to_encode:\n",
    "    le = LabelEncoder()\n",
    "    all_data[column] = le.fit_transform(all_data[column].astype(str))\n",
    "    label_encoders[column] = le"
   ]
  },
  {
   "cell_type": "code",
   "execution_count": 51,
   "metadata": {},
   "outputs": [
    {
     "name": "stdout",
     "output_type": "stream",
     "text": [
      "['region', 'manufacturer', 'condition', 'cylinders', 'fuel', 'title_status']\n"
     ]
    },
    {
     "data": {
      "text/html": [
       "<div>\n",
       "<style scoped>\n",
       "    .dataframe tbody tr th:only-of-type {\n",
       "        vertical-align: middle;\n",
       "    }\n",
       "\n",
       "    .dataframe tbody tr th {\n",
       "        vertical-align: top;\n",
       "    }\n",
       "\n",
       "    .dataframe thead th {\n",
       "        text-align: right;\n",
       "    }\n",
       "</style>\n",
       "<table border=\"1\" class=\"dataframe\">\n",
       "  <thead>\n",
       "    <tr style=\"text-align: right;\">\n",
       "      <th></th>\n",
       "      <th>region</th>\n",
       "      <th>manufacturer</th>\n",
       "      <th>condition</th>\n",
       "      <th>cylinders</th>\n",
       "      <th>fuel</th>\n",
       "      <th>title_status</th>\n",
       "    </tr>\n",
       "  </thead>\n",
       "  <tbody>\n",
       "    <tr>\n",
       "      <th>0</th>\n",
       "      <td>nashville</td>\n",
       "      <td>bmw</td>\n",
       "      <td>excellent</td>\n",
       "      <td>6 cylinders</td>\n",
       "      <td>gas</td>\n",
       "      <td>clean</td>\n",
       "    </tr>\n",
       "    <tr>\n",
       "      <th>1</th>\n",
       "      <td>state college</td>\n",
       "      <td>toyota</td>\n",
       "      <td>fair</td>\n",
       "      <td>8 cylinders</td>\n",
       "      <td>gas</td>\n",
       "      <td>clean</td>\n",
       "    </tr>\n",
       "    <tr>\n",
       "      <th>2</th>\n",
       "      <td>wichita</td>\n",
       "      <td>ford</td>\n",
       "      <td>good</td>\n",
       "      <td>6 cylinders</td>\n",
       "      <td>gas</td>\n",
       "      <td>clean</td>\n",
       "    </tr>\n",
       "    <tr>\n",
       "      <th>3</th>\n",
       "      <td>albany</td>\n",
       "      <td>ford</td>\n",
       "      <td>excellent</td>\n",
       "      <td>4 cylinders</td>\n",
       "      <td>gas</td>\n",
       "      <td>clean</td>\n",
       "    </tr>\n",
       "    <tr>\n",
       "      <th>4</th>\n",
       "      <td>redding</td>\n",
       "      <td>ford</td>\n",
       "      <td>excellent</td>\n",
       "      <td>6 cylinders</td>\n",
       "      <td>gas</td>\n",
       "      <td>clean</td>\n",
       "    </tr>\n",
       "  </tbody>\n",
       "</table>\n",
       "</div>"
      ],
      "text/plain": [
       "          region manufacturer  condition    cylinders fuel title_status\n",
       "0      nashville          bmw  excellent  6 cylinders  gas        clean\n",
       "1  state college       toyota       fair  8 cylinders  gas        clean\n",
       "2        wichita         ford       good  6 cylinders  gas        clean\n",
       "3         albany         ford  excellent  4 cylinders  gas        clean\n",
       "4        redding         ford  excellent  6 cylinders  gas        clean"
      ]
     },
     "execution_count": 51,
     "metadata": {},
     "output_type": "execute_result"
    }
   ],
   "source": [
    "# カテゴリ変数を抜き出す\n",
    "categorical_columns = all_data.select_dtypes(include=['object']).columns.tolist()\n",
    "print(categorical_columns)\n",
    "# カテゴリ変数のデータフレーム\n",
    "all_data_categorical = all_data[categorical_columns]\n",
    "\n",
    "all_data_categorical.head()\n"
   ]
  },
  {
   "cell_type": "code",
   "execution_count": 52,
   "metadata": {},
   "outputs": [],
   "source": [
    "all_data = all_data[['condition_encoded', 'cylinders_encoded', 'transmission', 'drive', 'size', 'type', 'paint_color', 'state', 'region_encoded', 'manufacturer_encoded', 'fuel_encoded', 'mileage_encoded', 'title_status_encoded', 'size_type', 'drive_transmission', 'color_temperature', 'condition_age', 'manufacturer_country', 'year', 'odometer', 'price', 'years_since_manufacture', 'avg_mileage_per_year', 'manufacturer_popularity', 'region_avg_price', 'color_popularity_score']]"
   ]
  },
  {
   "cell_type": "code",
   "execution_count": 53,
   "metadata": {},
   "outputs": [
    {
     "name": "stdout",
     "output_type": "stream",
     "text": [
      "Index(['condition_encoded', 'cylinders_encoded', 'transmission', 'drive',\n",
      "       'size', 'type', 'paint_color', 'state', 'region_encoded',\n",
      "       'manufacturer_encoded', 'fuel_encoded', 'mileage_encoded',\n",
      "       'title_status_encoded', 'size_type', 'drive_transmission',\n",
      "       'color_temperature', 'condition_age', 'manufacturer_country', 'year',\n",
      "       'odometer', 'price', 'years_since_manufacture', 'avg_mileage_per_year',\n",
      "       'manufacturer_popularity', 'region_avg_price',\n",
      "       'color_popularity_score'],\n",
      "      dtype='object')\n"
     ]
    },
    {
     "data": {
      "text/html": [
       "<div>\n",
       "<style scoped>\n",
       "    .dataframe tbody tr th:only-of-type {\n",
       "        vertical-align: middle;\n",
       "    }\n",
       "\n",
       "    .dataframe tbody tr th {\n",
       "        vertical-align: top;\n",
       "    }\n",
       "\n",
       "    .dataframe thead th {\n",
       "        text-align: right;\n",
       "    }\n",
       "</style>\n",
       "<table border=\"1\" class=\"dataframe\">\n",
       "  <thead>\n",
       "    <tr style=\"text-align: right;\">\n",
       "      <th></th>\n",
       "      <th>condition_encoded</th>\n",
       "      <th>cylinders_encoded</th>\n",
       "      <th>transmission</th>\n",
       "      <th>drive</th>\n",
       "      <th>size</th>\n",
       "      <th>type</th>\n",
       "      <th>paint_color</th>\n",
       "      <th>state</th>\n",
       "      <th>region_encoded</th>\n",
       "      <th>manufacturer_encoded</th>\n",
       "      <th>...</th>\n",
       "      <th>condition_age</th>\n",
       "      <th>manufacturer_country</th>\n",
       "      <th>year</th>\n",
       "      <th>odometer</th>\n",
       "      <th>price</th>\n",
       "      <th>years_since_manufacture</th>\n",
       "      <th>avg_mileage_per_year</th>\n",
       "      <th>manufacturer_popularity</th>\n",
       "      <th>region_avg_price</th>\n",
       "      <th>color_popularity_score</th>\n",
       "    </tr>\n",
       "  </thead>\n",
       "  <tbody>\n",
       "    <tr>\n",
       "      <th>0</th>\n",
       "      <td>4</td>\n",
       "      <td>6</td>\n",
       "      <td>1</td>\n",
       "      <td>2</td>\n",
       "      <td>4</td>\n",
       "      <td>2</td>\n",
       "      <td>6</td>\n",
       "      <td>27</td>\n",
       "      <td>0</td>\n",
       "      <td>1</td>\n",
       "      <td>...</td>\n",
       "      <td>8</td>\n",
       "      <td>1</td>\n",
       "      <td>-5.814645</td>\n",
       "      <td>-0.018732</td>\n",
       "      <td>27587.0</td>\n",
       "      <td>5.814645</td>\n",
       "      <td>-1.230066</td>\n",
       "      <td>0.010815</td>\n",
       "      <td>0.517514</td>\n",
       "      <td>-1.608824</td>\n",
       "    </tr>\n",
       "    <tr>\n",
       "      <th>1</th>\n",
       "      <td>2</td>\n",
       "      <td>8</td>\n",
       "      <td>0</td>\n",
       "      <td>2</td>\n",
       "      <td>1</td>\n",
       "      <td>10</td>\n",
       "      <td>9</td>\n",
       "      <td>39</td>\n",
       "      <td>0</td>\n",
       "      <td>8</td>\n",
       "      <td>...</td>\n",
       "      <td>13</td>\n",
       "      <td>2</td>\n",
       "      <td>0.524050</td>\n",
       "      <td>0.901244</td>\n",
       "      <td>4724.0</td>\n",
       "      <td>-0.524050</td>\n",
       "      <td>1.220846</td>\n",
       "      <td>-0.536761</td>\n",
       "      <td>-1.957131</td>\n",
       "      <td>-0.400558</td>\n",
       "    </tr>\n",
       "    <tr>\n",
       "      <th>2</th>\n",
       "      <td>3</td>\n",
       "      <td>6</td>\n",
       "      <td>0</td>\n",
       "      <td>1</td>\n",
       "      <td>1</td>\n",
       "      <td>0</td>\n",
       "      <td>9</td>\n",
       "      <td>16</td>\n",
       "      <td>0</td>\n",
       "      <td>3</td>\n",
       "      <td>...</td>\n",
       "      <td>25</td>\n",
       "      <td>0</td>\n",
       "      <td>-0.961582</td>\n",
       "      <td>0.585163</td>\n",
       "      <td>10931.0</td>\n",
       "      <td>0.961582</td>\n",
       "      <td>-0.518396</td>\n",
       "      <td>1.553852</td>\n",
       "      <td>-0.452741</td>\n",
       "      <td>-0.400558</td>\n",
       "    </tr>\n",
       "    <tr>\n",
       "      <th>3</th>\n",
       "      <td>4</td>\n",
       "      <td>4</td>\n",
       "      <td>1</td>\n",
       "      <td>1</td>\n",
       "      <td>4</td>\n",
       "      <td>0</td>\n",
       "      <td>1</td>\n",
       "      <td>35</td>\n",
       "      <td>1</td>\n",
       "      <td>3</td>\n",
       "      <td>...</td>\n",
       "      <td>0</td>\n",
       "      <td>0</td>\n",
       "      <td>0.623092</td>\n",
       "      <td>-0.197099</td>\n",
       "      <td>16553.0</td>\n",
       "      <td>-0.623092</td>\n",
       "      <td>0.338213</td>\n",
       "      <td>1.553852</td>\n",
       "      <td>0.767999</td>\n",
       "      <td>-0.551016</td>\n",
       "    </tr>\n",
       "    <tr>\n",
       "      <th>4</th>\n",
       "      <td>4</td>\n",
       "      <td>6</td>\n",
       "      <td>1</td>\n",
       "      <td>1</td>\n",
       "      <td>4</td>\n",
       "      <td>10</td>\n",
       "      <td>8</td>\n",
       "      <td>4</td>\n",
       "      <td>0</td>\n",
       "      <td>3</td>\n",
       "      <td>...</td>\n",
       "      <td>2</td>\n",
       "      <td>0</td>\n",
       "      <td>-0.268287</td>\n",
       "      <td>0.456797</td>\n",
       "      <td>5158.0</td>\n",
       "      <td>0.268287</td>\n",
       "      <td>-0.215928</td>\n",
       "      <td>1.553852</td>\n",
       "      <td>-1.228201</td>\n",
       "      <td>-1.240159</td>\n",
       "    </tr>\n",
       "  </tbody>\n",
       "</table>\n",
       "<p>5 rows × 26 columns</p>\n",
       "</div>"
      ],
      "text/plain": [
       "   condition_encoded  cylinders_encoded  transmission  drive  size  type  \\\n",
       "0                  4                  6             1      2     4     2   \n",
       "1                  2                  8             0      2     1    10   \n",
       "2                  3                  6             0      1     1     0   \n",
       "3                  4                  4             1      1     4     0   \n",
       "4                  4                  6             1      1     4    10   \n",
       "\n",
       "   paint_color  state  region_encoded  manufacturer_encoded  ...  \\\n",
       "0            6     27               0                     1  ...   \n",
       "1            9     39               0                     8  ...   \n",
       "2            9     16               0                     3  ...   \n",
       "3            1     35               1                     3  ...   \n",
       "4            8      4               0                     3  ...   \n",
       "\n",
       "   condition_age  manufacturer_country      year  odometer    price  \\\n",
       "0              8                     1 -5.814645 -0.018732  27587.0   \n",
       "1             13                     2  0.524050  0.901244   4724.0   \n",
       "2             25                     0 -0.961582  0.585163  10931.0   \n",
       "3              0                     0  0.623092 -0.197099  16553.0   \n",
       "4              2                     0 -0.268287  0.456797   5158.0   \n",
       "\n",
       "   years_since_manufacture  avg_mileage_per_year  manufacturer_popularity  \\\n",
       "0                 5.814645             -1.230066                 0.010815   \n",
       "1                -0.524050              1.220846                -0.536761   \n",
       "2                 0.961582             -0.518396                 1.553852   \n",
       "3                -0.623092              0.338213                 1.553852   \n",
       "4                 0.268287             -0.215928                 1.553852   \n",
       "\n",
       "   region_avg_price  color_popularity_score  \n",
       "0          0.517514               -1.608824  \n",
       "1         -1.957131               -0.400558  \n",
       "2         -0.452741               -0.400558  \n",
       "3          0.767999               -0.551016  \n",
       "4         -1.228201               -1.240159  \n",
       "\n",
       "[5 rows x 26 columns]"
      ]
     },
     "execution_count": 53,
     "metadata": {},
     "output_type": "execute_result"
    }
   ],
   "source": [
    "print(all_data.columns)\n",
    "all_data.head()\n"
   ]
  },
  {
   "cell_type": "code",
   "execution_count": 54,
   "metadata": {},
   "outputs": [],
   "source": [
    "all_data.to_csv('../data_processed/all_data1.csv', index=False)"
   ]
  }
 ],
 "metadata": {
  "kernelspec": {
   "display_name": "base",
   "language": "python",
   "name": "python3"
  },
  "language_info": {
   "codemirror_mode": {
    "name": "ipython",
    "version": 3
   },
   "file_extension": ".py",
   "mimetype": "text/x-python",
   "name": "python",
   "nbconvert_exporter": "python",
   "pygments_lexer": "ipython3",
   "version": "3.9.7"
  },
  "orig_nbformat": 4
 },
 "nbformat": 4,
 "nbformat_minor": 2
}
