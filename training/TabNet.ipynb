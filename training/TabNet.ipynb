{
 "cells": [
  {
   "cell_type": "code",
   "execution_count": 9,
   "metadata": {},
   "outputs": [],
   "source": [
    "# 基本的なライブラリ\n",
    "import pandas as pd\n",
    "import numpy as np\n",
    "import matplotlib.pyplot as plt\n",
    "import warnings\n",
    "import random\n",
    "import os\n",
    "\n",
    "from pytorch_tabnet.tab_model import TabNetRegressor\n",
    "import torch\n",
    "from sklearn.metrics import mean_absolute_percentage_error\n",
    "\n",
    "    \n",
    "# モデル関連\n",
    "import lightgbm as lgb\n",
    "from lightgbm import LGBMRegressor\n",
    "from catboost import CatBoostRegressor\n",
    "from sklearn.tree import DecisionTreeRegressor\n",
    "from sklearn.ensemble import RandomForestRegressor\n",
    "from sklearn.svm import SVR\n",
    "import xgboost as xgb\n",
    "\n",
    "# モデル評価・前処理関連\n",
    "from sklearn.model_selection import train_test_split, GridSearchCV, learning_curve, cross_val_score, KFold\n",
    "from sklearn.preprocessing import LabelEncoder\n",
    "from sklearn.metrics import mean_squared_error, mean_absolute_percentage_error\n",
    "\n",
    "# ハイパーパラメータ最適化関連\n",
    "import optuna\n",
    "from optuna.integration import LightGBMPruningCallback, XGBoostPruningCallback\n",
    "import optuna.visualization as vis\n",
    "\n",
    "# その他のユーティリティ\n",
    "import shap\n",
    "import joblib\n",
    "\n",
    "# 乱数のシードを固定\n",
    "def torch_fix_seed(seed=42):\n",
    "    os.environ['PYTHONHASHSEED'] = str(seed)\n",
    "    os.environ['TF_DETERMINISTIC_OPS'] = 'true'\n",
    "    os.environ['TF_CUDNN_DETERMINISTIC'] = 'true'\n",
    "    \n",
    "    # Python random\n",
    "    random.seed(seed)\n",
    "    # Numpy\n",
    "    np.random.seed(seed)\n",
    "    # Pytorch\n",
    "    torch.manual_seed(seed)\n",
    "    torch.cuda.manual_seed(seed)\n",
    "    torch.backends.cudnn.deterministic = True\n",
    "    torch.use_deterministic_algorithms = True\n",
    "    torch.backends.cudnn.benchmark = False\n",
    "    \n",
    "torch_fix_seed()\n",
    "\n",
    "# 警告を無視\n",
    "warnings.filterwarnings(\"ignore\")"
   ]
  },
  {
   "cell_type": "code",
   "execution_count": 10,
   "metadata": {},
   "outputs": [],
   "source": [
    "# データの読み込み\n",
    "all_data = pd.read_csv('../data_processed/all_data.csv')\n",
    "\n",
    "train_data = all_data[0:27532]\n",
    "X = train_data.drop(['price'], axis=1)\n",
    "y = train_data['price']\n",
    "\n",
    "# データの分割\n",
    "X_train, X_val, y_train, y_val = train_test_split(X, y, test_size=0.1, random_state=42)"
   ]
  },
  {
   "cell_type": "code",
   "execution_count": 11,
   "metadata": {},
   "outputs": [],
   "source": [
    "torch_fix_seed()\n",
    "def objective(trial):\n",
    "    # モデルの選択はTabNetのみとする\n",
    "    model_type = trial.suggest_categorical('model_type', ['tabnet'])\n",
    "    \n",
    "    # 交差検証の設定\n",
    "    n_splits = 3\n",
    "    kf = KFold(n_splits=n_splits, shuffle=True, random_state=42)\n",
    "    \n",
    "    mape_scores = []\n",
    "    \n",
    "    for train_idx, val_idx in kf.split(X, y):\n",
    "        X_train, X_val = X.iloc[train_idx], X.iloc[val_idx]\n",
    "        y_train, y_val = y.iloc[train_idx].values.reshape(-1, 1), y.iloc[val_idx].values.reshape(-1, 1)\n",
    "        \n",
    "        if model_type == 'tabnet':\n",
    "            params = {\n",
    "                'n_d': trial.suggest_int('n_d', 8, 64),\n",
    "                'n_a': trial.suggest_int('n_a', 8, 64),\n",
    "                'n_steps': trial.suggest_int('n_steps', 3, 10),\n",
    "                'gamma': trial.suggest_float('gamma', 1.0, 2.0),\n",
    "                'n_independent': trial.suggest_int('n_independent', 1, 5),\n",
    "                'n_shared': trial.suggest_int('n_shared', 1, 5),\n",
    "                'lambda_sparse': trial.suggest_float('lambda_sparse', 1e-5, 1e-1, log=True),\n",
    "                'optimizer_fn': torch.optim.Adam,\n",
    "                'mask_type': trial.suggest_categorical('mask_type', ['entmax', 'sparsemax']),\n",
    "                'scheduler_params': {\"step_size\":10, \"gamma\":0.9},\n",
    "                'scheduler_fn': torch.optim.lr_scheduler.StepLR,\n",
    "                'verbose': 0\n",
    "            }\n",
    "            model = TabNetRegressor(**params)\n",
    "            model.fit(X_train.values, y_train, \n",
    "                    eval_set=[(X_val.values, y_val)], \n",
    "                    patience=10, \n",
    "                    batch_size=256, \n",
    "                    virtual_batch_size=128, \n",
    "                    max_epochs=1000, \n",
    "                    num_workers=0, \n",
    "                    drop_last=False)\n",
    "\n",
    "        \n",
    "        preds = model.predict(X_val.values)\n",
    "        \n",
    "        mape = mean_absolute_percentage_error(y_val, preds)\n",
    "        mape_scores.append(mape)\n",
    "    \n",
    "    # 交差検証のMAPEの平均を返す\n",
    "    return sum(mape_scores) / n_splits"
   ]
  },
  {
   "cell_type": "code",
   "execution_count": 13,
   "metadata": {},
   "outputs": [
    {
     "name": "stderr",
     "output_type": "stream",
     "text": [
      "[I 2023-08-17 00:30:20,643] A new study created in memory with name: no-name-283d35c5-3176-46af-8396-b80fef48fa8e\n"
     ]
    },
    {
     "name": "stdout",
     "output_type": "stream",
     "text": [
      "\n",
      "Early stopping occurred at epoch 26 with best_epoch = 16 and best_val_0_mse = 71071338.62473\n",
      "\n",
      "Early stopping occurred at epoch 29 with best_epoch = 19 and best_val_0_mse = 71792301.06186\n",
      "\n",
      "Early stopping occurred at epoch 26 with best_epoch = 16 and best_val_0_mse = 73511713.87505\n",
      "\n",
      "Early stopping occurred at epoch 11 with best_epoch = 1 and best_val_0_mse = 123274555.66668\n",
      "\n",
      "Early stopping occurred at epoch 34 with best_epoch = 24 and best_val_0_mse = 74057848.43874\n",
      "\n",
      "Early stopping occurred at epoch 52 with best_epoch = 42 and best_val_0_mse = 70333445.61593\n",
      "\n",
      "Early stopping occurred at epoch 27 with best_epoch = 17 and best_val_0_mse = 75124980.64166\n"
     ]
    },
    {
     "name": "stderr",
     "output_type": "stream",
     "text": [
      "[I 2023-08-17 01:16:42,244] Trial 3 finished with value: 0.7370319404937166 and parameters: {'model_type': 'tabnet', 'n_d': 47, 'n_a': 8, 'n_steps': 8, 'gamma': 1.416323080416372, 'n_independent': 4, 'n_shared': 5, 'lambda_sparse': 0.020347258847848496, 'mask_type': 'entmax'}. Best is trial 3 with value: 0.7370319404937166.\n"
     ]
    },
    {
     "name": "stdout",
     "output_type": "stream",
     "text": [
      "\n",
      "Early stopping occurred at epoch 46 with best_epoch = 36 and best_val_0_mse = 73449404.26127\n"
     ]
    },
    {
     "name": "stderr",
     "output_type": "stream",
     "text": [
      "[I 2023-08-17 01:23:37,543] Trial 0 finished with value: 0.6941326287151591 and parameters: {'model_type': 'tabnet', 'n_d': 64, 'n_a': 14, 'n_steps': 5, 'gamma': 1.5656809766207842, 'n_independent': 4, 'n_shared': 5, 'lambda_sparse': 0.0025180489399281207, 'mask_type': 'entmax'}. Best is trial 0 with value: 0.6941326287151591.\n"
     ]
    },
    {
     "name": "stdout",
     "output_type": "stream",
     "text": [
      "\n",
      "Early stopping occurred at epoch 18 with best_epoch = 8 and best_val_0_mse = 79115599.00786\n",
      "\n",
      "Early stopping occurred at epoch 44 with best_epoch = 34 and best_val_0_mse = 72359041.61816\n",
      "\n",
      "Early stopping occurred at epoch 24 with best_epoch = 14 and best_val_0_mse = 83320743.54079\n",
      "\n",
      "Early stopping occurred at epoch 38 with best_epoch = 28 and best_val_0_mse = 71682370.16871\n",
      "\n",
      "Early stopping occurred at epoch 60 with best_epoch = 50 and best_val_0_mse = 80629167.99763\n",
      "\n",
      "Early stopping occurred at epoch 30 with best_epoch = 20 and best_val_0_mse = 74045183.74531\n"
     ]
    },
    {
     "name": "stderr",
     "output_type": "stream",
     "text": [
      "[I 2023-08-17 01:54:37,178] Trial 2 finished with value: 0.6870870429805388 and parameters: {'model_type': 'tabnet', 'n_d': 63, 'n_a': 60, 'n_steps': 8, 'gamma': 1.8503105562886535, 'n_independent': 4, 'n_shared': 5, 'lambda_sparse': 0.0033316168942443525, 'mask_type': 'entmax'}. Best is trial 2 with value: 0.6870870429805388.\n"
     ]
    },
    {
     "name": "stdout",
     "output_type": "stream",
     "text": [
      "\n",
      "Early stopping occurred at epoch 21 with best_epoch = 11 and best_val_0_mse = 79204272.2065\n",
      "\n",
      "Early stopping occurred at epoch 42 with best_epoch = 32 and best_val_0_mse = 75681910.72469\n"
     ]
    },
    {
     "name": "stderr",
     "output_type": "stream",
     "text": [
      "[I 2023-08-17 02:02:00,563] Trial 4 finished with value: 0.7874879980952701 and parameters: {'model_type': 'tabnet', 'n_d': 47, 'n_a': 49, 'n_steps': 8, 'gamma': 1.5610358505661168, 'n_independent': 4, 'n_shared': 2, 'lambda_sparse': 1.9109381114352438e-05, 'mask_type': 'sparsemax'}. Best is trial 2 with value: 0.6870870429805388.\n"
     ]
    },
    {
     "name": "stdout",
     "output_type": "stream",
     "text": [
      "\n",
      "Early stopping occurred at epoch 20 with best_epoch = 10 and best_val_0_mse = 83209254.26416\n",
      "\n",
      "Early stopping occurred at epoch 16 with best_epoch = 6 and best_val_0_mse = 130364597.41736\n",
      "\n",
      "Early stopping occurred at epoch 42 with best_epoch = 32 and best_val_0_mse = 69620913.01868\n",
      "\n",
      "Early stopping occurred at epoch 19 with best_epoch = 9 and best_val_0_mse = 76541133.00162\n"
     ]
    },
    {
     "name": "stderr",
     "output_type": "stream",
     "text": [
      "[I 2023-08-17 02:16:35,799] Trial 6 finished with value: 0.7889086139972911 and parameters: {'model_type': 'tabnet', 'n_d': 57, 'n_a': 57, 'n_steps': 9, 'gamma': 1.529848125255754, 'n_independent': 1, 'n_shared': 2, 'lambda_sparse': 0.0018567985704478294, 'mask_type': 'sparsemax'}. Best is trial 2 with value: 0.6870870429805388.\n"
     ]
    },
    {
     "name": "stdout",
     "output_type": "stream",
     "text": [
      "\n",
      "Early stopping occurred at epoch 36 with best_epoch = 26 and best_val_0_mse = 72819441.66777\n",
      "\n",
      "Early stopping occurred at epoch 42 with best_epoch = 32 and best_val_0_mse = 76853915.16581\n"
     ]
    },
    {
     "name": "stderr",
     "output_type": "stream",
     "text": [
      "[I 2023-08-17 02:26:13,892] Trial 1 finished with value: 0.7045425564026572 and parameters: {'model_type': 'tabnet', 'n_d': 59, 'n_a': 45, 'n_steps': 10, 'gamma': 1.4758177253590614, 'n_independent': 3, 'n_shared': 4, 'lambda_sparse': 0.019152919153450968, 'mask_type': 'sparsemax'}. Best is trial 2 with value: 0.6870870429805388.\n"
     ]
    },
    {
     "name": "stdout",
     "output_type": "stream",
     "text": [
      "\n",
      "Early stopping occurred at epoch 33 with best_epoch = 23 and best_val_0_mse = 74550998.95464\n"
     ]
    },
    {
     "name": "stderr",
     "output_type": "stream",
     "text": [
      "[I 2023-08-17 02:27:44,380] Trial 7 finished with value: 0.6827423346485334 and parameters: {'model_type': 'tabnet', 'n_d': 34, 'n_a': 64, 'n_steps': 5, 'gamma': 1.6847297051558057, 'n_independent': 2, 'n_shared': 1, 'lambda_sparse': 2.2634920655487773e-05, 'mask_type': 'entmax'}. Best is trial 7 with value: 0.6827423346485334.\n"
     ]
    },
    {
     "name": "stdout",
     "output_type": "stream",
     "text": [
      "\n",
      "Early stopping occurred at epoch 21 with best_epoch = 11 and best_val_0_mse = 77799262.59504\n",
      "\n",
      "Early stopping occurred at epoch 47 with best_epoch = 37 and best_val_0_mse = 74171959.32702\n"
     ]
    },
    {
     "name": "stderr",
     "output_type": "stream",
     "text": [
      "[I 2023-08-17 02:30:41,331] Trial 5 finished with value: 0.7063877745645449 and parameters: {'model_type': 'tabnet', 'n_d': 33, 'n_a': 8, 'n_steps': 10, 'gamma': 1.675613619247612, 'n_independent': 3, 'n_shared': 4, 'lambda_sparse': 0.0010371030258409368, 'mask_type': 'entmax'}. Best is trial 7 with value: 0.6827423346485334.\n"
     ]
    },
    {
     "name": "stdout",
     "output_type": "stream",
     "text": [
      "\n",
      "Early stopping occurred at epoch 23 with best_epoch = 13 and best_val_0_mse = 70762440.91458\n",
      "\n",
      "Early stopping occurred at epoch 18 with best_epoch = 8 and best_val_0_mse = 97324613.72505\n",
      "\n",
      "Early stopping occurred at epoch 29 with best_epoch = 19 and best_val_0_mse = 73301609.93978\n"
     ]
    },
    {
     "name": "stderr",
     "output_type": "stream",
     "text": [
      "[I 2023-08-17 02:43:01,759] Trial 9 finished with value: 0.7056577185129558 and parameters: {'model_type': 'tabnet', 'n_d': 57, 'n_a': 54, 'n_steps': 4, 'gamma': 1.454971964579827, 'n_independent': 1, 'n_shared': 3, 'lambda_sparse': 2.3847855000935622e-05, 'mask_type': 'entmax'}. Best is trial 7 with value: 0.6827423346485334.\n"
     ]
    },
    {
     "name": "stdout",
     "output_type": "stream",
     "text": [
      "\n",
      "Early stopping occurred at epoch 22 with best_epoch = 12 and best_val_0_mse = 80179722.07339\n",
      "\n",
      "Early stopping occurred at epoch 34 with best_epoch = 24 and best_val_0_mse = 70439201.80993\n",
      "\n",
      "Early stopping occurred at epoch 41 with best_epoch = 31 and best_val_0_mse = 76434272.95836\n",
      "\n",
      "Early stopping occurred at epoch 51 with best_epoch = 41 and best_val_0_mse = 71208606.0855\n",
      "\n",
      "Early stopping occurred at epoch 27 with best_epoch = 17 and best_val_0_mse = 77543198.03617\n"
     ]
    },
    {
     "name": "stderr",
     "output_type": "stream",
     "text": [
      "[I 2023-08-17 03:01:49,620] Trial 8 finished with value: 0.7002449266685272 and parameters: {'model_type': 'tabnet', 'n_d': 23, 'n_a': 15, 'n_steps': 10, 'gamma': 1.6555119475083424, 'n_independent': 5, 'n_shared': 2, 'lambda_sparse': 0.04575914501401477, 'mask_type': 'entmax'}. Best is trial 7 with value: 0.6827423346485334.\n"
     ]
    },
    {
     "name": "stdout",
     "output_type": "stream",
     "text": [
      "\n",
      "Early stopping occurred at epoch 31 with best_epoch = 21 and best_val_0_mse = 77894833.62383\n",
      "\n",
      "Early stopping occurred at epoch 41 with best_epoch = 31 and best_val_0_mse = 70508998.61867\n",
      "\n",
      "Early stopping occurred at epoch 38 with best_epoch = 28 and best_val_0_mse = 77615239.77802\n",
      "\n",
      "Early stopping occurred at epoch 47 with best_epoch = 37 and best_val_0_mse = 72700859.02437\n",
      "\n",
      "Early stopping occurred at epoch 39 with best_epoch = 29 and best_val_0_mse = 75247914.38537\n",
      "\n",
      "Early stopping occurred at epoch 44 with best_epoch = 34 and best_val_0_mse = 73838723.39829\n"
     ]
    },
    {
     "name": "stderr",
     "output_type": "stream",
     "text": [
      "[I 2023-08-17 03:19:30,270] Trial 12 finished with value: 0.7115610520309374 and parameters: {'model_type': 'tabnet', 'n_d': 8, 'n_a': 19, 'n_steps': 6, 'gamma': 1.2859288639851296, 'n_independent': 1, 'n_shared': 4, 'lambda_sparse': 0.010195565360881426, 'mask_type': 'sparsemax'}. Best is trial 7 with value: 0.6827423346485334.\n"
     ]
    },
    {
     "name": "stdout",
     "output_type": "stream",
     "text": [
      "\n",
      "Early stopping occurred at epoch 44 with best_epoch = 34 and best_val_0_mse = 75142103.91883\n"
     ]
    },
    {
     "name": "stderr",
     "output_type": "stream",
     "text": [
      "[I 2023-08-17 03:20:17,665] Trial 13 finished with value: 0.7035021241711338 and parameters: {'model_type': 'tabnet', 'n_d': 15, 'n_a': 32, 'n_steps': 3, 'gamma': 1.1564673054641568, 'n_independent': 2, 'n_shared': 1, 'lambda_sparse': 0.00013489323979287037, 'mask_type': 'sparsemax'}. Best is trial 7 with value: 0.6827423346485334.\n"
     ]
    },
    {
     "name": "stdout",
     "output_type": "stream",
     "text": [
      "\n",
      "Early stopping occurred at epoch 38 with best_epoch = 28 and best_val_0_mse = 71138181.88134\n",
      "\n",
      "Early stopping occurred at epoch 31 with best_epoch = 21 and best_val_0_mse = 74720984.33645\n"
     ]
    },
    {
     "name": "stderr",
     "output_type": "stream",
     "text": [
      "[I 2023-08-17 03:26:34,183] Trial 10 finished with value: 0.6800762221665364 and parameters: {'model_type': 'tabnet', 'n_d': 44, 'n_a': 34, 'n_steps': 6, 'gamma': 1.3783987838349596, 'n_independent': 5, 'n_shared': 4, 'lambda_sparse': 0.0002660349810519091, 'mask_type': 'entmax'}. Best is trial 10 with value: 0.6800762221665364.\n"
     ]
    },
    {
     "name": "stdout",
     "output_type": "stream",
     "text": [
      "\n",
      "Early stopping occurred at epoch 19 with best_epoch = 9 and best_val_0_mse = 72146919.92855\n",
      "\n",
      "Early stopping occurred at epoch 31 with best_epoch = 21 and best_val_0_mse = 69605216.13278\n",
      "\n",
      "Early stopping occurred at epoch 22 with best_epoch = 12 and best_val_0_mse = 71166306.50777\n",
      "\n",
      "Early stopping occurred at epoch 29 with best_epoch = 19 and best_val_0_mse = 74169565.37817\n"
     ]
    },
    {
     "name": "stderr",
     "output_type": "stream",
     "text": [
      "[I 2023-08-17 03:33:23,654] Trial 14 finished with value: 0.6601100784925537 and parameters: {'model_type': 'tabnet', 'n_d': 32, 'n_a': 63, 'n_steps': 3, 'gamma': 1.9074343286119104, 'n_independent': 2, 'n_shared': 1, 'lambda_sparse': 0.0001850510594279092, 'mask_type': 'entmax'}. Best is trial 14 with value: 0.6601100784925537.\n"
     ]
    },
    {
     "name": "stdout",
     "output_type": "stream",
     "text": [
      "\n",
      "Early stopping occurred at epoch 16 with best_epoch = 6 and best_val_0_mse = 94744488.84039\n",
      "\n",
      "Early stopping occurred at epoch 43 with best_epoch = 33 and best_val_0_mse = 75536055.67002\n"
     ]
    },
    {
     "name": "stderr",
     "output_type": "stream",
     "text": [
      "[I 2023-08-17 03:40:05,181] Trial 11 finished with value: 0.6909799306625848 and parameters: {'model_type': 'tabnet', 'n_d': 61, 'n_a': 9, 'n_steps': 9, 'gamma': 1.536407426894147, 'n_independent': 2, 'n_shared': 4, 'lambda_sparse': 0.002226768124887456, 'mask_type': 'entmax'}. Best is trial 14 with value: 0.6601100784925537.\n"
     ]
    },
    {
     "name": "stdout",
     "output_type": "stream",
     "text": [
      "\n",
      "Early stopping occurred at epoch 28 with best_epoch = 18 and best_val_0_mse = 70852255.87558\n",
      "\n",
      "Early stopping occurred at epoch 23 with best_epoch = 13 and best_val_0_mse = 70370982.30282\n",
      "\n",
      "Early stopping occurred at epoch 43 with best_epoch = 33 and best_val_0_mse = 75097011.91121\n"
     ]
    },
    {
     "name": "stderr",
     "output_type": "stream",
     "text": [
      "[I 2023-08-17 03:48:12,902] Trial 15 finished with value: 0.79743156318739 and parameters: {'model_type': 'tabnet', 'n_d': 33, 'n_a': 62, 'n_steps': 7, 'gamma': 1.902407490826226, 'n_independent': 2, 'n_shared': 1, 'lambda_sparse': 0.00013384905073923672, 'mask_type': 'entmax'}. Best is trial 14 with value: 0.6601100784925537.\n"
     ]
    },
    {
     "name": "stdout",
     "output_type": "stream",
     "text": [
      "\n",
      "Early stopping occurred at epoch 69 with best_epoch = 59 and best_val_0_mse = 79038719.05422\n",
      "\n",
      "Early stopping occurred at epoch 28 with best_epoch = 18 and best_val_0_mse = 71980112.73076\n",
      "\n",
      "Early stopping occurred at epoch 25 with best_epoch = 15 and best_val_0_mse = 70830856.95225\n",
      "\n",
      "Early stopping occurred at epoch 36 with best_epoch = 26 and best_val_0_mse = 71892229.23309\n",
      "\n",
      "Early stopping occurred at epoch 34 with best_epoch = 24 and best_val_0_mse = 73818688.2552\n"
     ]
    },
    {
     "name": "stderr",
     "output_type": "stream",
     "text": [
      "[I 2023-08-17 03:58:09,171] Trial 16 finished with value: 0.6651007225112152 and parameters: {'model_type': 'tabnet', 'n_d': 35, 'n_a': 34, 'n_steps': 6, 'gamma': 1.0090982957277972, 'n_independent': 2, 'n_shared': 1, 'lambda_sparse': 0.00018231233623752048, 'mask_type': 'entmax'}. Best is trial 14 with value: 0.6601100784925537.\n"
     ]
    },
    {
     "name": "stdout",
     "output_type": "stream",
     "text": [
      "\n",
      "Early stopping occurred at epoch 30 with best_epoch = 20 and best_val_0_mse = 74526939.87694\n"
     ]
    },
    {
     "name": "stderr",
     "output_type": "stream",
     "text": [
      "[I 2023-08-17 03:59:42,240] Trial 17 finished with value: 0.6819535445355407 and parameters: {'model_type': 'tabnet', 'n_d': 43, 'n_a': 34, 'n_steps': 3, 'gamma': 1.9589267720172543, 'n_independent': 5, 'n_shared': 3, 'lambda_sparse': 0.00027545628699748235, 'mask_type': 'entmax'}. Best is trial 14 with value: 0.6601100784925537.\n"
     ]
    },
    {
     "name": "stdout",
     "output_type": "stream",
     "text": [
      "\n",
      "Early stopping occurred at epoch 25 with best_epoch = 15 and best_val_0_mse = 69829163.2926\n",
      "\n",
      "Early stopping occurred at epoch 20 with best_epoch = 10 and best_val_0_mse = 70391588.37378\n",
      "\n",
      "Early stopping occurred at epoch 30 with best_epoch = 20 and best_val_0_mse = 71101825.50405\n",
      "\n",
      "Early stopping occurred at epoch 28 with best_epoch = 18 and best_val_0_mse = 74110342.6828\n"
     ]
    },
    {
     "name": "stderr",
     "output_type": "stream",
     "text": [
      "[I 2023-08-17 04:06:37,292] Trial 18 finished with value: 0.7114671580897688 and parameters: {'model_type': 'tabnet', 'n_d': 41, 'n_a': 33, 'n_steps': 3, 'gamma': 1.9210614049926649, 'n_independent': 5, 'n_shared': 3, 'lambda_sparse': 0.000267561023470442, 'mask_type': 'entmax'}. Best is trial 14 with value: 0.6601100784925537.\n"
     ]
    },
    {
     "name": "stdout",
     "output_type": "stream",
     "text": [
      "\n",
      "Early stopping occurred at epoch 31 with best_epoch = 21 and best_val_0_mse = 73751892.06892\n",
      "\n",
      "Early stopping occurred at epoch 23 with best_epoch = 13 and best_val_0_mse = 73660360.33574\n",
      "\n",
      "Early stopping occurred at epoch 26 with best_epoch = 16 and best_val_0_mse = 74401019.21263\n"
     ]
    },
    {
     "name": "stderr",
     "output_type": "stream",
     "text": [
      "[I 2023-08-17 04:14:16,320] Trial 20 finished with value: 0.7139756418676599 and parameters: {'model_type': 'tabnet', 'n_d': 24, 'n_a': 26, 'n_steps': 3, 'gamma': 1.0415714522447832, 'n_independent': 3, 'n_shared': 2, 'lambda_sparse': 0.00040945219309190486, 'mask_type': 'entmax'}. Best is trial 14 with value: 0.6601100784925537.\n"
     ]
    },
    {
     "name": "stdout",
     "output_type": "stream",
     "text": [
      "\n",
      "Early stopping occurred at epoch 38 with best_epoch = 28 and best_val_0_mse = 70008853.22418\n",
      "\n",
      "Early stopping occurred at epoch 34 with best_epoch = 24 and best_val_0_mse = 74015363.40571\n"
     ]
    },
    {
     "name": "stderr",
     "output_type": "stream",
     "text": [
      "[I 2023-08-17 04:16:01,922] Trial 19 finished with value: 0.728265786075507 and parameters: {'model_type': 'tabnet', 'n_d': 44, 'n_a': 35, 'n_steps': 3, 'gamma': 1.999242278370521, 'n_independent': 5, 'n_shared': 3, 'lambda_sparse': 0.00035106071277862344, 'mask_type': 'entmax'}. Best is trial 14 with value: 0.6601100784925537.\n"
     ]
    },
    {
     "name": "stdout",
     "output_type": "stream",
     "text": [
      "\n",
      "Early stopping occurred at epoch 30 with best_epoch = 20 and best_val_0_mse = 73834926.04099\n"
     ]
    },
    {
     "name": "stderr",
     "output_type": "stream",
     "text": [
      "[I 2023-08-17 04:17:44,994] Trial 21 finished with value: 0.7076581648700291 and parameters: {'model_type': 'tabnet', 'n_d': 25, 'n_a': 26, 'n_steps': 4, 'gamma': 1.0823599416384222, 'n_independent': 3, 'n_shared': 2, 'lambda_sparse': 0.0005114069720827397, 'mask_type': 'entmax'}. Best is trial 14 with value: 0.6601100784925537.\n"
     ]
    },
    {
     "name": "stdout",
     "output_type": "stream",
     "text": [
      "\n",
      "Early stopping occurred at epoch 26 with best_epoch = 16 and best_val_0_mse = 71866650.03424\n",
      "\n",
      "Early stopping occurred at epoch 32 with best_epoch = 22 and best_val_0_mse = 70490579.37621\n",
      "\n",
      "Early stopping occurred at epoch 17 with best_epoch = 7 and best_val_0_mse = 83972995.5803\n",
      "\n",
      "Early stopping occurred at epoch 32 with best_epoch = 22 and best_val_0_mse = 73113033.42297\n"
     ]
    },
    {
     "name": "stderr",
     "output_type": "stream",
     "text": [
      "[I 2023-08-17 04:27:07,769] Trial 22 finished with value: 0.7111318951707447 and parameters: {'model_type': 'tabnet', 'n_d': 26, 'n_a': 26, 'n_steps': 4, 'gamma': 1.0660315643286706, 'n_independent': 3, 'n_shared': 1, 'lambda_sparse': 6.272637035177295e-05, 'mask_type': 'entmax'}. Best is trial 14 with value: 0.6601100784925537.\n"
     ]
    },
    {
     "name": "stdout",
     "output_type": "stream",
     "text": [
      "\n",
      "Early stopping occurred at epoch 37 with best_epoch = 27 and best_val_0_mse = 72960992.54173\n",
      "\n",
      "Early stopping occurred at epoch 19 with best_epoch = 9 and best_val_0_mse = 74447784.69336\n"
     ]
    },
    {
     "name": "stderr",
     "output_type": "stream",
     "text": [
      "[I 2023-08-17 04:29:48,914] Trial 23 finished with value: 0.7627288821896995 and parameters: {'model_type': 'tabnet', 'n_d': 25, 'n_a': 42, 'n_steps': 5, 'gamma': 1.0043523928764357, 'n_independent': 2, 'n_shared': 1, 'lambda_sparse': 4.983878803753685e-05, 'mask_type': 'entmax'}. Best is trial 14 with value: 0.6601100784925537.\n"
     ]
    },
    {
     "name": "stdout",
     "output_type": "stream",
     "text": [
      "\n",
      "Early stopping occurred at epoch 47 with best_epoch = 37 and best_val_0_mse = 71283724.79455\n",
      "\n",
      "Early stopping occurred at epoch 18 with best_epoch = 8 and best_val_0_mse = 72667676.95416\n",
      "\n",
      "Early stopping occurred at epoch 21 with best_epoch = 11 and best_val_0_mse = 132441203.80438\n",
      "\n",
      "Early stopping occurred at epoch 20 with best_epoch = 10 and best_val_0_mse = 75925738.67875\n",
      "\n",
      "Early stopping occurred at epoch 52 with best_epoch = 42 and best_val_0_mse = 76257067.72073\n",
      "\n",
      "Early stopping occurred at epoch 51 with best_epoch = 41 and best_val_0_mse = 73907259.05917\n",
      "\n",
      "Early stopping occurred at epoch 27 with best_epoch = 17 and best_val_0_mse = 73807421.19239\n"
     ]
    },
    {
     "name": "stderr",
     "output_type": "stream",
     "text": [
      "[I 2023-08-17 04:45:05,658] Trial 26 finished with value: 0.7232788758849007 and parameters: {'model_type': 'tabnet', 'n_d': 38, 'n_a': 41, 'n_steps': 6, 'gamma': 1.301548840123628, 'n_independent': 2, 'n_shared': 1, 'lambda_sparse': 6.605580865160582e-05, 'mask_type': 'entmax'}. Best is trial 14 with value: 0.6601100784925537.\n"
     ]
    },
    {
     "name": "stdout",
     "output_type": "stream",
     "text": [
      "\n",
      "Early stopping occurred at epoch 36 with best_epoch = 26 and best_val_0_mse = 74776710.70081\n"
     ]
    },
    {
     "name": "stderr",
     "output_type": "stream",
     "text": [
      "[I 2023-08-17 04:48:33,919] Trial 24 finished with value: 0.693563722943786 and parameters: {'model_type': 'tabnet', 'n_d': 24, 'n_a': 42, 'n_steps': 6, 'gamma': 1.2720458088778315, 'n_independent': 3, 'n_shared': 1, 'lambda_sparse': 5.8159529182757005e-05, 'mask_type': 'entmax'}. Best is trial 14 with value: 0.6601100784925537.\n"
     ]
    },
    {
     "name": "stdout",
     "output_type": "stream",
     "text": [
      "\n",
      "Early stopping occurred at epoch 34 with best_epoch = 24 and best_val_0_mse = 73598148.2544\n"
     ]
    },
    {
     "name": "stderr",
     "output_type": "stream",
     "text": [
      "[I 2023-08-17 04:50:02,318] Trial 25 finished with value: 0.6967062215878631 and parameters: {'model_type': 'tabnet', 'n_d': 38, 'n_a': 42, 'n_steps': 6, 'gamma': 1.2811848603126825, 'n_independent': 2, 'n_shared': 1, 'lambda_sparse': 6.844714136995111e-05, 'mask_type': 'entmax'}. Best is trial 14 with value: 0.6601100784925537.\n"
     ]
    },
    {
     "name": "stdout",
     "output_type": "stream",
     "text": [
      "\n",
      "Early stopping occurred at epoch 30 with best_epoch = 20 and best_val_0_mse = 72765465.81688\n",
      "\n",
      "Early stopping occurred at epoch 22 with best_epoch = 12 and best_val_0_mse = 77010290.2304\n",
      "\n",
      "Early stopping occurred at epoch 25 with best_epoch = 15 and best_val_0_mse = 73651228.5668\n",
      "\n",
      "Early stopping occurred at epoch 22 with best_epoch = 12 and best_val_0_mse = 88233913.45567\n",
      "\n",
      "Early stopping occurred at epoch 45 with best_epoch = 35 and best_val_0_mse = 73923536.35729\n"
     ]
    },
    {
     "name": "stderr",
     "output_type": "stream",
     "text": [
      "[I 2023-08-17 05:04:34,841] Trial 27 finished with value: 0.6868042063352368 and parameters: {'model_type': 'tabnet', 'n_d': 51, 'n_a': 40, 'n_steps': 6, 'gamma': 1.3112519706471286, 'n_independent': 2, 'n_shared': 1, 'lambda_sparse': 0.000120547986778233, 'mask_type': 'entmax'}. Best is trial 14 with value: 0.6601100784925537.\n"
     ]
    },
    {
     "name": "stdout",
     "output_type": "stream",
     "text": [
      "\n",
      "Early stopping occurred at epoch 35 with best_epoch = 25 and best_val_0_mse = 76011090.37731\n",
      "\n",
      "Early stopping occurred at epoch 26 with best_epoch = 16 and best_val_0_mse = 75592715.71057\n"
     ]
    },
    {
     "name": "stderr",
     "output_type": "stream",
     "text": [
      "[I 2023-08-17 05:15:35,412] Trial 28 finished with value: 0.7329203376610197 and parameters: {'model_type': 'tabnet', 'n_d': 51, 'n_a': 39, 'n_steps': 7, 'gamma': 1.1897237009992199, 'n_independent': 1, 'n_shared': 4, 'lambda_sparse': 1.009180003814165e-05, 'mask_type': 'entmax'}. Best is trial 14 with value: 0.6601100784925537.\n"
     ]
    },
    {
     "name": "stdout",
     "output_type": "stream",
     "text": [
      "\n",
      "Early stopping occurred at epoch 67 with best_epoch = 57 and best_val_0_mse = 70249469.86755\n",
      "\n",
      "Early stopping occurred at epoch 40 with best_epoch = 30 and best_val_0_mse = 75439591.26078\n",
      "\n",
      "Early stopping occurred at epoch 26 with best_epoch = 16 and best_val_0_mse = 83037090.16072\n",
      "\n",
      "Early stopping occurred at epoch 38 with best_epoch = 28 and best_val_0_mse = 77576916.35869\n"
     ]
    },
    {
     "name": "stderr",
     "output_type": "stream",
     "text": [
      "[I 2023-08-17 05:32:06,089] Trial 29 finished with value: 0.7273282928887811 and parameters: {'model_type': 'tabnet', 'n_d': 51, 'n_a': 52, 'n_steps': 7, 'gamma': 1.192005740118029, 'n_independent': 1, 'n_shared': 4, 'lambda_sparse': 0.0007729682767483612, 'mask_type': 'sparsemax'}. Best is trial 14 with value: 0.6601100784925537.\n"
     ]
    },
    {
     "name": "stdout",
     "output_type": "stream",
     "text": [
      "\n",
      "Early stopping occurred at epoch 40 with best_epoch = 30 and best_val_0_mse = 98760738.17459\n",
      "\n",
      "Early stopping occurred at epoch 21 with best_epoch = 11 and best_val_0_mse = 87474376.66366\n",
      "\n",
      "Early stopping occurred at epoch 43 with best_epoch = 33 and best_val_0_mse = 74218186.18567\n",
      "\n",
      "Early stopping occurred at epoch 62 with best_epoch = 52 and best_val_0_mse = 70649493.4274\n"
     ]
    },
    {
     "name": "stderr",
     "output_type": "stream",
     "text": [
      "[I 2023-08-17 05:44:51,846] Trial 30 finished with value: 0.7196379771667455 and parameters: {'model_type': 'tabnet', 'n_d': 30, 'n_a': 52, 'n_steps': 7, 'gamma': 1.1871902256066869, 'n_independent': 1, 'n_shared': 4, 'lambda_sparse': 0.0006957512836664297, 'mask_type': 'sparsemax'}. Best is trial 14 with value: 0.6601100784925537.\n"
     ]
    },
    {
     "name": "stdout",
     "output_type": "stream",
     "text": [
      "\n",
      "Early stopping occurred at epoch 23 with best_epoch = 13 and best_val_0_mse = 76576007.94198\n"
     ]
    },
    {
     "name": "stderr",
     "output_type": "stream",
     "text": [
      "[I 2023-08-17 05:45:42,701] Trial 31 finished with value: 0.7290934201378795 and parameters: {'model_type': 'tabnet', 'n_d': 29, 'n_a': 51, 'n_steps': 7, 'gamma': 1.173768523454942, 'n_independent': 1, 'n_shared': 4, 'lambda_sparse': 0.0009118242414525537, 'mask_type': 'sparsemax'}. Best is trial 14 with value: 0.6601100784925537.\n"
     ]
    },
    {
     "name": "stdout",
     "output_type": "stream",
     "text": [
      "\n",
      "Early stopping occurred at epoch 12 with best_epoch = 2 and best_val_0_mse = 104448154.73577\n",
      "\n",
      "Early stopping occurred at epoch 12 with best_epoch = 2 and best_val_0_mse = 125678523.35054\n",
      "\n",
      "Early stopping occurred at epoch 18 with best_epoch = 8 and best_val_0_mse = 73196817.19366\n",
      "\n",
      "Early stopping occurred at epoch 19 with best_epoch = 9 and best_val_0_mse = 101672654.19377\n",
      "\n",
      "Early stopping occurred at epoch 31 with best_epoch = 21 and best_val_0_mse = 73882348.10242\n"
     ]
    },
    {
     "name": "stderr",
     "output_type": "stream",
     "text": [
      "[I 2023-08-17 06:01:10,669] Trial 33 finished with value: 0.8481876455214229 and parameters: {'model_type': 'tabnet', 'n_d': 31, 'n_a': 29, 'n_steps': 5, 'gamma': 1.3811095188590472, 'n_independent': 4, 'n_shared': 5, 'lambda_sparse': 0.00014926413479223767, 'mask_type': 'entmax'}. Best is trial 14 with value: 0.6601100784925537.\n"
     ]
    },
    {
     "name": "stdout",
     "output_type": "stream",
     "text": [
      "\n",
      "Early stopping occurred at epoch 25 with best_epoch = 15 and best_val_0_mse = 72956559.66064\n",
      "\n",
      "Early stopping occurred at epoch 36 with best_epoch = 26 and best_val_0_mse = 74594048.22197\n"
     ]
    },
    {
     "name": "stderr",
     "output_type": "stream",
     "text": [
      "[I 2023-08-17 06:07:44,545] Trial 32 finished with value: 0.7127601664229509 and parameters: {'model_type': 'tabnet', 'n_d': 30, 'n_a': 50, 'n_steps': 5, 'gamma': 1.3915048636798646, 'n_independent': 4, 'n_shared': 5, 'lambda_sparse': 0.000951219294654087, 'mask_type': 'sparsemax'}. Best is trial 14 with value: 0.6601100784925537.\n"
     ]
    },
    {
     "name": "stdout",
     "output_type": "stream",
     "text": [
      "\n",
      "Early stopping occurred at epoch 51 with best_epoch = 41 and best_val_0_mse = 79509406.69774\n",
      "\n",
      "Early stopping occurred at epoch 37 with best_epoch = 27 and best_val_0_mse = 70274176.62556\n",
      "\n",
      "Early stopping occurred at epoch 23 with best_epoch = 13 and best_val_0_mse = 74322072.72513\n"
     ]
    },
    {
     "name": "stderr",
     "output_type": "stream",
     "text": [
      "[I 2023-08-17 06:15:51,140] Trial 35 finished with value: 0.682137062607658 and parameters: {'model_type': 'tabnet', 'n_d': 40, 'n_a': 30, 'n_steps': 5, 'gamma': 1.7572929549254561, 'n_independent': 5, 'n_shared': 3, 'lambda_sparse': 0.00021438134500000643, 'mask_type': 'entmax'}. Best is trial 14 with value: 0.6601100784925537.\n"
     ]
    },
    {
     "name": "stdout",
     "output_type": "stream",
     "text": [
      "\n",
      "Early stopping occurred at epoch 28 with best_epoch = 18 and best_val_0_mse = 70193222.00726\n",
      "\n",
      "Early stopping occurred at epoch 21 with best_epoch = 11 and best_val_0_mse = 160164361.10068\n",
      "\n",
      "Early stopping occurred at epoch 35 with best_epoch = 25 and best_val_0_mse = 74377366.43716\n"
     ]
    },
    {
     "name": "stderr",
     "output_type": "stream",
     "text": [
      "[I 2023-08-17 06:23:54,692] Trial 34 finished with value: 0.7120290855269528 and parameters: {'model_type': 'tabnet', 'n_d': 43, 'n_a': 30, 'n_steps': 4, 'gamma': 1.7910131959808555, 'n_independent': 5, 'n_shared': 3, 'lambda_sparse': 0.0002163738779329059, 'mask_type': 'entmax'}. Best is trial 14 with value: 0.6601100784925537.\n"
     ]
    },
    {
     "name": "stdout",
     "output_type": "stream",
     "text": [
      "\n",
      "Early stopping occurred at epoch 20 with best_epoch = 10 and best_val_0_mse = 73008491.10535\n",
      "\n",
      "Early stopping occurred at epoch 35 with best_epoch = 25 and best_val_0_mse = 69457983.85762\n",
      "\n",
      "Early stopping occurred at epoch 24 with best_epoch = 14 and best_val_0_mse = 70010145.44298\n",
      "\n",
      "Early stopping occurred at epoch 28 with best_epoch = 18 and best_val_0_mse = 74235577.37486\n"
     ]
    },
    {
     "name": "stderr",
     "output_type": "stream",
     "text": [
      "[I 2023-08-17 06:33:49,553] Trial 37 finished with value: 0.7299625282662054 and parameters: {'model_type': 'tabnet', 'n_d': 42, 'n_a': 22, 'n_steps': 4, 'gamma': 1.7892458608687825, 'n_independent': 5, 'n_shared': 3, 'lambda_sparse': 0.00023077878607591866, 'mask_type': 'entmax'}. Best is trial 14 with value: 0.6601100784925537.\n"
     ]
    },
    {
     "name": "stdout",
     "output_type": "stream",
     "text": [
      "\n",
      "Early stopping occurred at epoch 13 with best_epoch = 3 and best_val_0_mse = 106510943.41849\n",
      "\n",
      "Early stopping occurred at epoch 42 with best_epoch = 32 and best_val_0_mse = 73423454.23928\n"
     ]
    },
    {
     "name": "stderr",
     "output_type": "stream",
     "text": [
      "[I 2023-08-17 06:37:21,454] Trial 36 finished with value: 0.6979593928333839 and parameters: {'model_type': 'tabnet', 'n_d': 41, 'n_a': 47, 'n_steps': 4, 'gamma': 1.7658026840595884, 'n_independent': 5, 'n_shared': 3, 'lambda_sparse': 0.0002819698650568075, 'mask_type': 'entmax'}. Best is trial 14 with value: 0.6601100784925537.\n"
     ]
    },
    {
     "name": "stdout",
     "output_type": "stream",
     "text": [
      "\n",
      "Early stopping occurred at epoch 28 with best_epoch = 18 and best_val_0_mse = 85236400.42004\n",
      "\n",
      "Early stopping occurred at epoch 21 with best_epoch = 11 and best_val_0_mse = 75545231.17682\n"
     ]
    },
    {
     "name": "stderr",
     "output_type": "stream",
     "text": [
      "[I 2023-08-17 06:39:03,422] Trial 38 finished with value: 0.8401643165653286 and parameters: {'model_type': 'tabnet', 'n_d': 46, 'n_a': 37, 'n_steps': 4, 'gamma': 1.8065770736230689, 'n_independent': 5, 'n_shared': 3, 'lambda_sparse': 0.00023487837588713047, 'mask_type': 'entmax'}. Best is trial 14 with value: 0.6601100784925537.\n"
     ]
    },
    {
     "name": "stdout",
     "output_type": "stream",
     "text": [
      "\n",
      "Early stopping occurred at epoch 35 with best_epoch = 25 and best_val_0_mse = 73932685.3705\n"
     ]
    },
    {
     "name": "stderr",
     "output_type": "stream",
     "text": [
      "[I 2023-08-17 06:40:58,906] Trial 39 finished with value: 0.7097677051162301 and parameters: {'model_type': 'tabnet', 'n_d': 47, 'n_a': 37, 'n_steps': 4, 'gamma': 1.622831742522124, 'n_independent': 5, 'n_shared': 2, 'lambda_sparse': 0.000411742092449686, 'mask_type': 'entmax'}. Best is trial 14 with value: 0.6601100784925537.\n"
     ]
    },
    {
     "name": "stdout",
     "output_type": "stream",
     "text": [
      "  Value:  0.6601100784925537\n",
      "Best trial: {'model_type': 'tabnet', 'n_d': 32, 'n_a': 63, 'n_steps': 3, 'gamma': 1.9074343286119104, 'n_independent': 2, 'n_shared': 1, 'lambda_sparse': 0.0001850510594279092, 'mask_type': 'entmax'}\n"
     ]
    }
   ],
   "source": [
    "torch_fix_seed()\n",
    "\n",
    "# Optunaのスタディを作成\n",
    "study = optuna.create_study(direction='minimize', \n",
    "                            pruner=optuna.pruners.MedianPruner(n_warmup_steps=10), \n",
    "                            sampler=optuna.samplers.TPESampler(seed=SEED))\n",
    "\n",
    "# 初期のトライアルを追加\n",
    "study.enqueue_trial({'model_type': 'tabnet', 'n_d': 64, 'n_a': 14, 'n_steps': 5, 'gamma': 1.5656809766207842, 'n_independent': 4, 'n_shared': 5, 'lambda_sparse': 0.0025180489399281207, 'mask_type': 'entmax'})\n",
    "\n",
    "# 最適化を実行  \n",
    "study.optimize(objective, \n",
    "               n_trials=None, \n",
    "               timeout=60*60*6, \n",
    "               n_jobs=4, \n",
    "               gc_after_trial=False, \n",
    "               show_progress_bar=True)   # 合計のトライアル数とタイムアウトを調整\n",
    "\n",
    "print('  Value: ', study.best_trial.value)\n",
    "print('Best trial:', study.best_trial.params)"
   ]
  },
  {
   "cell_type": "code",
   "execution_count": null,
   "metadata": {},
   "outputs": [
    {
     "name": "stdout",
     "output_type": "stream",
     "text": [
      "epoch 0  | loss: 299110348.30769|  0:00:02s\n",
      "epoch 1  | loss: 291769335.38462|  0:00:05s\n",
      "epoch 2  | loss: 275099828.92308|  0:00:07s\n",
      "epoch 3  | loss: 250504219.07692|  0:00:10s\n",
      "epoch 4  | loss: 221660050.46154|  0:00:13s\n",
      "epoch 5  | loss: 191881468.92308|  0:00:15s\n",
      "epoch 6  | loss: 158011793.84615|  0:00:18s\n",
      "epoch 7  | loss: 121822026.15385|  0:00:20s\n",
      "epoch 8  | loss: 101207364.61538|  0:00:23s\n",
      "epoch 9  | loss: 90795498.76923|  0:00:26s\n",
      "epoch 10 | loss: 85143535.07692|  0:00:29s\n",
      "epoch 11 | loss: 82072202.15385|  0:00:32s\n",
      "epoch 12 | loss: 81663408.61538|  0:00:34s\n",
      "epoch 13 | loss: 80488378.76923|  0:00:41s\n",
      "epoch 14 | loss: 80065553.38462|  0:00:45s\n",
      "epoch 15 | loss: 79608385.23077|  0:00:48s\n",
      "epoch 16 | loss: 79324316.15385|  0:00:51s\n",
      "epoch 17 | loss: 78512828.30769|  0:00:53s\n",
      "epoch 18 | loss: 80437590.15385|  0:00:57s\n",
      "epoch 19 | loss: 81509268.61538|  0:01:01s\n",
      "epoch 20 | loss: 79680208.0|  0:01:04s\n",
      "epoch 21 | loss: 78216952.92308|  0:01:07s\n",
      "epoch 22 | loss: 78568088.30769|  0:01:10s\n",
      "epoch 23 | loss: 78327527.07692|  0:01:15s\n",
      "epoch 24 | loss: 78378079.53846|  0:01:18s\n",
      "epoch 25 | loss: 78743259.07692|  0:01:23s\n",
      "epoch 26 | loss: 77623291.69231|  0:01:29s\n",
      "epoch 27 | loss: 77499361.23077|  0:01:33s\n",
      "epoch 28 | loss: 78005760.0|  0:01:37s\n",
      "epoch 29 | loss: 76313384.76923|  0:01:41s\n",
      "epoch 30 | loss: 76439394.61538|  0:01:43s\n",
      "epoch 31 | loss: 75683320.46154|  0:01:47s\n",
      "epoch 32 | loss: 75663448.46154|  0:01:51s\n",
      "epoch 33 | loss: 73777124.76923|  0:01:58s\n",
      "epoch 34 | loss: 74289233.69231|  0:02:01s\n",
      "epoch 35 | loss: 73256398.30769|  0:02:09s\n",
      "epoch 36 | loss: 72733398.92308|  0:02:13s\n",
      "epoch 37 | loss: 72620521.53846|  0:02:17s\n",
      "epoch 38 | loss: 72356689.69231|  0:02:25s\n",
      "epoch 39 | loss: 72316989.53846|  0:02:28s\n",
      "epoch 40 | loss: 71712721.38462|  0:02:33s\n",
      "epoch 41 | loss: 71156417.38462|  0:02:36s\n",
      "epoch 42 | loss: 70886702.92308|  0:02:39s\n",
      "epoch 43 | loss: 71039251.84615|  0:02:41s\n",
      "epoch 44 | loss: 70796002.30769|  0:02:44s\n",
      "epoch 45 | loss: 70539874.76923|  0:02:47s\n",
      "epoch 46 | loss: 70749277.07692|  0:02:54s\n",
      "epoch 47 | loss: 70572986.46154|  0:02:56s\n",
      "epoch 48 | loss: 70065544.76923|  0:03:01s\n",
      "epoch 49 | loss: 70336609.23077|  0:03:09s\n",
      "epoch 50 | loss: 70090365.38462|  0:03:17s\n",
      "epoch 51 | loss: 69677232.76923|  0:03:26s\n",
      "epoch 52 | loss: 69896024.0|  0:03:41s\n",
      "epoch 53 | loss: 69393800.30769|  0:03:45s\n",
      "epoch 54 | loss: 69344757.53846|  0:03:51s\n",
      "epoch 55 | loss: 69212481.69231|  0:04:01s\n",
      "epoch 56 | loss: 69264893.69231|  0:04:04s\n",
      "epoch 57 | loss: 68711987.84615|  0:04:09s\n",
      "epoch 58 | loss: 68431868.92308|  0:04:13s\n",
      "epoch 59 | loss: 68033321.23077|  0:04:24s\n",
      "epoch 60 | loss: 68692780.76923|  0:04:28s\n",
      "epoch 61 | loss: 67947724.0|  0:04:33s\n",
      "epoch 62 | loss: 68044455.69231|  0:04:43s\n",
      "epoch 63 | loss: 68314520.0|  0:04:46s\n",
      "epoch 64 | loss: 68211537.84615|  0:04:49s\n",
      "epoch 65 | loss: 67678338.61538|  0:04:55s\n",
      "epoch 66 | loss: 67376690.76923|  0:04:57s\n",
      "epoch 67 | loss: 67536011.38462|  0:05:00s\n",
      "epoch 68 | loss: 67211636.76923|  0:05:11s\n",
      "epoch 69 | loss: 66967366.30769|  0:05:14s\n",
      "epoch 70 | loss: 66217594.92308|  0:05:16s\n",
      "epoch 71 | loss: 66694755.84615|  0:05:22s\n",
      "epoch 72 | loss: 66505321.84615|  0:05:25s\n",
      "epoch 73 | loss: 65706814.30769|  0:05:30s\n",
      "epoch 74 | loss: 65710896.15385|  0:05:34s\n",
      "epoch 75 | loss: 66911209.69231|  0:05:45s\n",
      "epoch 76 | loss: 66657976.30769|  0:05:51s\n",
      "epoch 77 | loss: 65722772.30769|  0:05:55s\n",
      "epoch 78 | loss: 66183166.46154|  0:05:58s\n",
      "epoch 79 | loss: 65471766.30769|  0:06:05s\n",
      "epoch 80 | loss: 65782157.84615|  0:06:13s\n",
      "epoch 81 | loss: 65615395.38462|  0:06:21s\n",
      "epoch 82 | loss: 64909753.69231|  0:06:24s\n",
      "epoch 83 | loss: 64220509.23077|  0:06:30s\n",
      "epoch 84 | loss: 63936394.61538|  0:06:32s\n",
      "epoch 85 | loss: 63886545.69231|  0:06:35s\n",
      "epoch 86 | loss: 63021220.76923|  0:06:39s\n",
      "epoch 87 | loss: 62879469.07692|  0:06:41s\n",
      "epoch 88 | loss: 62077948.15385|  0:06:44s\n",
      "epoch 89 | loss: 61916908.15385|  0:06:47s\n",
      "epoch 90 | loss: 61722071.38462|  0:06:50s\n",
      "epoch 91 | loss: 61766678.30769|  0:06:58s\n",
      "epoch 92 | loss: 61559272.76923|  0:07:02s\n",
      "epoch 93 | loss: 60935071.23077|  0:07:05s\n",
      "epoch 94 | loss: 60265430.46154|  0:07:09s\n",
      "epoch 95 | loss: 59233283.07692|  0:07:14s\n",
      "epoch 96 | loss: 59144472.46154|  0:07:21s\n",
      "epoch 97 | loss: 58957569.84615|  0:07:25s\n",
      "epoch 98 | loss: 59083063.69231|  0:07:29s\n",
      "epoch 99 | loss: 58462816.15385|  0:07:33s\n",
      "Successfully saved model at ../model/tabnet.zip\n"
     ]
    }
   ],
   "source": [
    "torch_fix_seed()\n",
    "# 最適なモデルの取得\n",
    "best_params = study.best_trial.params\n",
    "\n",
    "model_type = best_params['model_type']\n",
    "\n",
    "del best_params['model_type']  # モデルタイプをパラメータから削除\n",
    "\n",
    "model_name = \"tabnet\"\n",
    "\n",
    "if model_type == 'tabnet':\n",
    "    best_model = TabNetRegressor(**best_params)\n",
    "    best_model.fit(X.values, y.values.reshape(-1, 1)) \n",
    "    # tabnetのモデルを保存\n",
    "    best_model.save_model(f'../model/{model_name}')\n"
   ]
  }
 ],
 "metadata": {
  "kernelspec": {
   "display_name": "base",
   "language": "python",
   "name": "python3"
  },
  "language_info": {
   "codemirror_mode": {
    "name": "ipython",
    "version": 3
   },
   "file_extension": ".py",
   "mimetype": "text/x-python",
   "name": "python",
   "nbconvert_exporter": "python",
   "pygments_lexer": "ipython3",
   "version": "3.9.7"
  },
  "orig_nbformat": 4
 },
 "nbformat": 4,
 "nbformat_minor": 2
}
