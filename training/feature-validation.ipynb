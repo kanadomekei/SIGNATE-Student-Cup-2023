{
 "cells": [
  {
   "cell_type": "code",
   "execution_count": 4,
   "metadata": {},
   "outputs": [],
   "source": [
    "# 基本的なライブラリ\n",
    "import pandas as pd\n",
    "import numpy as np\n",
    "import matplotlib.pyplot as plt\n",
    "import warnings\n",
    "import random\n",
    "\n",
    "# モデル関連\n",
    "import lightgbm as lgb\n",
    "from lightgbm import LGBMRegressor\n",
    "from catboost import CatBoostRegressor\n",
    "from sklearn.tree import DecisionTreeRegressor\n",
    "from sklearn.ensemble import RandomForestRegressor\n",
    "from sklearn.svm import SVR\n",
    "import xgboost as xgb\n",
    "\n",
    "# モデル評価・前処理関連\n",
    "from sklearn.model_selection import train_test_split, GridSearchCV, learning_curve, cross_val_score, KFold\n",
    "from sklearn.preprocessing import LabelEncoder\n",
    "from sklearn.metrics import mean_squared_error, mean_absolute_percentage_error\n",
    "\n",
    "# ハイパーパラメータ最適化関連\n",
    "import optuna\n",
    "from optuna.integration import LightGBMPruningCallback, XGBoostPruningCallback\n",
    "import optuna.visualization as vis\n",
    "\n",
    "# その他のユーティリティ\n",
    "import shap\n",
    "import joblib\n",
    "\n",
    "# 乱数のシードを固定\n",
    "SEED = 42\n",
    "np.random.seed(SEED)\n",
    "random.seed(SEED)\n",
    "\n",
    "# 警告を無視\n",
    "warnings.filterwarnings(\"ignore\")\n"
   ]
  },
  {
   "cell_type": "code",
   "execution_count": 5,
   "metadata": {},
   "outputs": [],
   "source": [
    "# データの読み込み\n",
    "all_data = pd.read_csv('../data_processed/all_data1.csv')\n",
    "\n",
    "train_data = all_data[0:27532]\n",
    "X = train_data.drop(['price'], axis=1)\n",
    "y = train_data['price']\n",
    "\n",
    "# データの分割\n",
    "X_train, X_val, y_train, y_val = train_test_split(X, y, test_size=0.1, random_state=42)"
   ]
  },
  {
   "cell_type": "code",
   "execution_count": 7,
   "metadata": {},
   "outputs": [
    {
     "name": "stdout",
     "output_type": "stream",
     "text": [
      "1. CatBoost:\n",
      "   - Mean Absolute Percentage Error (MAPE): 0.66%\n",
      "\n",
      "2. LightGBM:\n",
      "   - Mean Absolute Percentage Error (MAPE): 0.66%\n",
      "\n",
      "3. XGBoost:\n",
      "   - Mean Absolute Percentage Error (MAPE): 0.65%\n",
      "\n",
      "Average MAPE across all models: 0.66%\n"
     ]
    }
   ],
   "source": [
    "# CatBoost\n",
    "cat_model = CatBoostRegressor(random_seed=42, verbose=0)\n",
    "cat_model.fit(X_train, y_train, cat_features=[])\n",
    "y_pred_cat = cat_model.predict(X_val)\n",
    "mape_cat = mean_absolute_percentage_error(y_val, y_pred_cat)\n",
    "print(f\"1. CatBoost:\\n   - Mean Absolute Percentage Error (MAPE): {mape_cat:.2f}%\\n\")\n",
    "\n",
    "# LightGBM\n",
    "lgb_model = LGBMRegressor(random_state=42, verbose=-1)  \n",
    "lgb_model.fit(X_train, y_train)\n",
    "y_pred_lgb = lgb_model.predict(X_val)\n",
    "mape_lgb = mean_absolute_percentage_error(y_val, y_pred_lgb)\n",
    "print(f\"2. LightGBM:\\n   - Mean Absolute Percentage Error (MAPE): {mape_lgb:.2f}%\\n\")\n",
    "\n",
    "# XGBoost\n",
    "dtrain = xgb.DMatrix(X_train, label=y_train)\n",
    "dval = xgb.DMatrix(X_val)\n",
    "xgb_model = xgb.train({}, dtrain, verbose_eval=False)  \n",
    "y_pred_xgb = xgb_model.predict(dval)\n",
    "mape_xgb = mean_absolute_percentage_error(y_val, y_pred_xgb)\n",
    "print(f\"3. XGBoost:\\n   - Mean Absolute Percentage Error (MAPE): {mape_xgb:.2f}%\\n\")\n",
    "\n",
    "# 平均のMAPE\n",
    "average_mape = (mape_cat + mape_lgb + mape_xgb) / 3\n",
    "print(f\"Average MAPE across all models: {average_mape:.2f}%\")\n"
   ]
  }
 ],
 "metadata": {
  "kernelspec": {
   "display_name": "base",
   "language": "python",
   "name": "python3"
  },
  "language_info": {
   "codemirror_mode": {
    "name": "ipython",
    "version": 3
   },
   "file_extension": ".py",
   "mimetype": "text/x-python",
   "name": "python",
   "nbconvert_exporter": "python",
   "pygments_lexer": "ipython3",
   "version": "3.9.7"
  },
  "orig_nbformat": 4
 },
 "nbformat": 4,
 "nbformat_minor": 2
}
